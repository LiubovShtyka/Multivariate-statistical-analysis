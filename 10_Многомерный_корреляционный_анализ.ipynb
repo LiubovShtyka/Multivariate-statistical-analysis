{
  "nbformat": 4,
  "nbformat_minor": 0,
  "metadata": {
    "colab": {
      "provenance": [],
      "collapsed_sections": []
    },
    "kernelspec": {
      "name": "python3",
      "display_name": "Python 3"
    },
    "language_info": {
      "name": "python"
    }
  },
  "cells": [
    {
      "cell_type": "code",
      "source": [
        "import numpy as np\n",
        "from scipy import stats\n"
      ],
      "metadata": {
        "id": "LARA7aMymU3S"
      },
      "execution_count": null,
      "outputs": []
    },
    {
      "cell_type": "code",
      "execution_count": null,
      "metadata": {
        "id": "uaa0GWSFmCPP",
        "colab": {
          "base_uri": "https://localhost:8080/"
        },
        "outputId": "ca0a71ef-1bd8-40ef-dd0d-6df89eda78aa"
      },
      "outputs": [
        {
          "output_type": "stream",
          "name": "stdout",
          "text": [
            "n = 8 \n",
            "k = 3\n"
          ]
        }
      ],
      "source": [
        "x = np.array([[30, 20, 40, 35, 45, 25, 50, 30], [20, 30, 50, 70, 80, 20, 90, 25], [20, 25, 20, 15, 10, 30, 10, 20]])\n",
        "n = len(x[0,:])\n",
        "k = len(x[:, 0])\n",
        "print('n =', n, '\\nk =', k)"
      ]
    },
    {
      "cell_type": "markdown",
      "source": [
        "1.\tОценить параметры генеральной совокупности, которая предполагается нормально распределённой."
      ],
      "metadata": {
        "id": "o4G8FPO0ml08"
      }
    },
    {
      "cell_type": "code",
      "source": [
        "# Находим средние значения\n",
        "x1_ср = np.mean(x[0, :])\n",
        "x2_ср = np.mean(x[1, :])\n",
        "x3_ср = np.mean(x[2, :])\n",
        "print('x1_ср =', x1_ср, '\\nx2_ср =', x2_ср, '\\nx3_ср =', x3_ср)"
      ],
      "metadata": {
        "colab": {
          "base_uri": "https://localhost:8080/"
        },
        "id": "6gMDWfj_miss",
        "outputId": "4cb8c12c-b530-43ba-9dc8-0cd3b054a014"
      },
      "execution_count": null,
      "outputs": [
        {
          "output_type": "stream",
          "name": "stdout",
          "text": [
            "x1_ср = 34.375 \n",
            "x2_ср = 48.125 \n",
            "x3_ср = 18.75\n"
          ]
        }
      ]
    },
    {
      "cell_type": "code",
      "source": [
        "# Находим СКО\n",
        "s1 = np.std(x[0, :])\n",
        "s2 = np.std(x[1, :])\n",
        "s3 = np.std(x[2, :])\n",
        "\n",
        "print('s1 =', s1, '\\ns2 =', s2, '\\ns3 =', s3)"
      ],
      "metadata": {
        "colab": {
          "base_uri": "https://localhost:8080/"
        },
        "id": "Q82BCimUyZhL",
        "outputId": "bc1448e3-c8d7-4abe-edf7-afb3f42b08d4"
      },
      "execution_count": null,
      "outputs": [
        {
          "output_type": "stream",
          "name": "stdout",
          "text": [
            "s1 = 9.499177595981665 \n",
            "s2 = 26.685377550261492 \n",
            "s3 = 6.49519052838329\n"
          ]
        }
      ]
    },
    {
      "cell_type": "code",
      "source": [
        "r12, p = stats.pearsonr(x[0, :], x[1, :])\n",
        "r23, p = stats.pearsonr(x[1, :], x[2, :])\n",
        "r13, p = stats.pearsonr(x[0, :], x[2, :])\n",
        "print('r12 =', r12)\n",
        "print('r23 =', r23)\n",
        "print('r13 =', r13)"
      ],
      "metadata": {
        "colab": {
          "base_uri": "https://localhost:8080/"
        },
        "id": "-bhUb6Tr0UlE",
        "outputId": "e6946910-1748-461e-8a9c-cbc6b703fee2"
      },
      "execution_count": null,
      "outputs": [
        {
          "output_type": "stream",
          "name": "stdout",
          "text": [
            "r12 = 0.8706610646413422\n",
            "r23 = -0.8789403350824507\n",
            "r13 = -0.8736977528572242\n"
          ]
        }
      ]
    },
    {
      "cell_type": "code",
      "source": [
        "x_ср = [x1_ср, x2_ср, x3_ср]\n",
        "s = [s1, s2, s3]\n",
        "R = [[1, r12, r13], [r12, 1, r23], [r13, r23, 1]]\n",
        "print('R =')\n",
        "R"
      ],
      "metadata": {
        "colab": {
          "base_uri": "https://localhost:8080/"
        },
        "id": "hOD-0UVh243c",
        "outputId": "494b797a-f0c7-430a-804e-c08baff29058"
      },
      "execution_count": null,
      "outputs": [
        {
          "output_type": "stream",
          "name": "stdout",
          "text": [
            "R =\n"
          ]
        },
        {
          "output_type": "execute_result",
          "data": {
            "text/plain": [
              "[[1, 0.8706610646413422, -0.8736977528572242],\n",
              " [0.8706610646413422, 1, -0.8789403350824507],\n",
              " [-0.8736977528572242, -0.8789403350824507, 1]]"
            ]
          },
          "metadata": {},
          "execution_count": 7
        }
      ]
    },
    {
      "cell_type": "markdown",
      "source": [
        "2.\tНайти оценку r 12/3 частного коэффициента коэффициент корреляции p 12/3 и проверить его значимость при a=0.05."
      ],
      "metadata": {
        "id": "slETbfN2mphc"
      }
    },
    {
      "cell_type": "code",
      "source": [
        "R12 = np.array([[R[1][0], R[1][2]], [R[2][0], R[2][2]]])\n",
        "R11 = np.array([[R[1][1], R[1][2]], [R[2][1], R[2][2]]])\n",
        "R22 = np.array([[R[0][0], R[0][2]], [R[2][0], R[2][2]]])\n",
        "o = np.linalg.det(R)\n",
        "o1 = -np.linalg.det(R12)\n",
        "o2 = np.linalg.det(R11)\n",
        "o3 = np.linalg.det(R22)\n",
        "print('R12 =\\n', R12, 'определитель =', o1)\n",
        "print('R11 =\\n', R11, 'определитель =', o2)\n",
        "print('R22 =\\n', R22, 'определитель =', o3)"
      ],
      "metadata": {
        "colab": {
          "base_uri": "https://localhost:8080/"
        },
        "id": "bEtL53vWmrtm",
        "outputId": "477d432f-54a5-4a3d-d3ef-b4c298a41b6c"
      },
      "execution_count": null,
      "outputs": [
        {
          "output_type": "stream",
          "name": "stdout",
          "text": [
            "R12 =\n",
            " [[ 0.87066106 -0.87894034]\n",
            " [-0.87369775  1.        ]] определитель = -0.10273286898422934\n",
            "R11 =\n",
            " [[ 1.         -0.87894034]\n",
            " [-0.87894034  1.        ]] определитель = 0.22746388736514922\n",
            "R22 =\n",
            " [[ 1.         -0.87369775]\n",
            " [-0.87369775  1.        ]] определитель = 0.23665223665223678\n"
          ]
        }
      ]
    },
    {
      "cell_type": "code",
      "source": [
        "r12_3 = -o1/((o2*o3) ** 0.5)\n",
        "print('r12/3 =', r12_3)"
      ],
      "metadata": {
        "colab": {
          "base_uri": "https://localhost:8080/"
        },
        "id": "i7-JPrFfG5CJ",
        "outputId": "2c21c310-dd59-4d4a-b4e6-ae6fd67aac3c"
      },
      "execution_count": null,
      "outputs": [
        {
          "output_type": "stream",
          "name": "stdout",
          "text": [
            "r12/3 = 0.44279007879369614\n"
          ]
        }
      ]
    },
    {
      "cell_type": "code",
      "source": [
        "from math import fabs\n",
        "Tphi = fabs(r12_3)*((n-1-2)/(1-r12_3**2))**0.5\n",
        "Tкр = 2.57\n",
        "print('Tphi =', Tphi)"
      ],
      "metadata": {
        "colab": {
          "base_uri": "https://localhost:8080/"
        },
        "id": "T3CUGr8HH3xf",
        "outputId": "01998fbc-9ceb-4b00-dd3d-a216844ddbc1"
      },
      "execution_count": null,
      "outputs": [
        {
          "output_type": "stream",
          "name": "stdout",
          "text": [
            "Tphi = 1.1042613956526737\n"
          ]
        }
      ]
    },
    {
      "cell_type": "code",
      "source": [
        "if Tphi < Tкр:\n",
        "  print('принимается гипотеза Н0, т.е. коэффициент корреляции является незначимым')\n",
        "else:\n",
        "  print('принимается гипотеза Н1, т.е. коэффициент корреляции является значимым')"
      ],
      "metadata": {
        "colab": {
          "base_uri": "https://localhost:8080/"
        },
        "id": "w0KLLeM6Ia_o",
        "outputId": "3b6d3ae5-2e2c-43a2-e8ba-1242bf6360a4"
      },
      "execution_count": null,
      "outputs": [
        {
          "output_type": "stream",
          "name": "stdout",
          "text": [
            "принимается гипотеза Н0, т.е. коэффициент корреляции является незначимым\n"
          ]
        }
      ]
    },
    {
      "cell_type": "markdown",
      "source": [
        "3.\tНайти точечную оценку r 1/23 множественного коэффициента корреляции p 1/23 и проверить его значимость при a=0.05."
      ],
      "metadata": {
        "id": "9BUOkaCBms4x"
      }
    },
    {
      "cell_type": "code",
      "source": [
        "r1_23 = (1-o/o2) ** 0.5\n",
        "r1_23"
      ],
      "metadata": {
        "colab": {
          "base_uri": "https://localhost:8080/"
        },
        "id": "_8nWmFbVmvGJ",
        "outputId": "1df02c2d-c3af-475f-f823-fb906e0e4301"
      },
      "execution_count": null,
      "outputs": [
        {
          "output_type": "execute_result",
          "data": {
            "text/plain": [
              "0.8998591687441375"
            ]
          },
          "metadata": {},
          "execution_count": 12
        }
      ]
    },
    {
      "cell_type": "code",
      "source": [
        "Fнабл = (1/(k-1) * r1_23**2)/(1/(n-k) * (1-r1_23**2))\n",
        "Fкр = 5.79\n",
        "print('Fнабл =', Fнабл)"
      ],
      "metadata": {
        "colab": {
          "base_uri": "https://localhost:8080/"
        },
        "id": "RzgXjeWuJoNS",
        "outputId": "1e0a8e45-157f-4687-9f9f-7bb83d6dad01"
      },
      "execution_count": null,
      "outputs": [
        {
          "output_type": "stream",
          "name": "stdout",
          "text": [
            "Fнабл = 10.6403643546971\n"
          ]
        }
      ]
    },
    {
      "cell_type": "code",
      "source": [
        "if Fнабл < Fкр:\n",
        "  print('принимается гипотеза Н0, , множественный коэффициент корреляции значимо не отличается от 0')\n",
        "else:\n",
        "  print('принимается гипотеза Н1, , множественный коэффициент корреляции значимо отличается от 0')"
      ],
      "metadata": {
        "colab": {
          "base_uri": "https://localhost:8080/"
        },
        "id": "7fpHWIEVLviI",
        "outputId": "45b7f40b-2004-4101-bf78-e7b0d5c322d6"
      },
      "execution_count": null,
      "outputs": [
        {
          "output_type": "stream",
          "name": "stdout",
          "text": [
            "принимается гипотеза Н1, , множественный коэффициент корреляции значимо отличается от 0\n"
          ]
        }
      ]
    },
    {
      "cell_type": "markdown",
      "source": [
        "4.\tПостроить доверительный интервал для частного коэффициента корреляции p \n",
        "12/3 при надёжности y=0.95"
      ],
      "metadata": {
        "id": "OAAR11jgmw8R"
      }
    },
    {
      "cell_type": "code",
      "source": [
        "y = 0.95\n",
        "ty = 1.96 # по таблице\n",
        "r12_3a = fabs(r12_3)\n",
        "z0 = 0.5*(np.log(1+r12_3a) - np.log(1-r12_3a))\n",
        "z1 = z0-ty*(1/(n-1-3))**0.5\n",
        "z2 = z0+ty*(1/(n-1-3))**0.5\n",
        "print(r12_3a)\n",
        "print(z1, '<= z <=', z2)\n"
      ],
      "metadata": {
        "colab": {
          "base_uri": "https://localhost:8080/"
        },
        "id": "TAdIAhT0mzKl",
        "outputId": "284f387d-0740-43c1-92c7-9e9b7fe624d2"
      },
      "execution_count": null,
      "outputs": [
        {
          "output_type": "stream",
          "name": "stdout",
          "text": [
            "0.44279007879369614\n",
            "-0.5043039872822328 <= z <= 1.4556960127177672\n"
          ]
        }
      ]
    },
    {
      "cell_type": "code",
      "source": [
        "Pmin = -0.462\n",
        "Pmax = 0.9\n",
        "print(Pmin, '<= P <=', Pmax)\n",
        "print('\\nПолученная интервальная оценка подтверждает вывод о \\nнезначимости частного коэффициента корреляции, так как нуль \\nнаходится внутри доверительного интервала. ')"
      ],
      "metadata": {
        "colab": {
          "base_uri": "https://localhost:8080/"
        },
        "id": "1o7--FJ0Olnf",
        "outputId": "d2a2909b-5973-4db5-cabd-66d7aa8f4efc"
      },
      "execution_count": null,
      "outputs": [
        {
          "output_type": "stream",
          "name": "stdout",
          "text": [
            "-0.462 <= P <= 0.9\n",
            "\n",
            "Полученная интервальная оценка подтверждает вывод о \n",
            "незначимости частного коэффициента корреляции, так как нуль \n",
            "находится внутри доверительного интервала. \n"
          ]
        }
      ]
    },
    {
      "cell_type": "code",
      "source": [],
      "metadata": {
        "id": "uam8z6VE9bPR"
      },
      "execution_count": null,
      "outputs": []
    }
  ]
}