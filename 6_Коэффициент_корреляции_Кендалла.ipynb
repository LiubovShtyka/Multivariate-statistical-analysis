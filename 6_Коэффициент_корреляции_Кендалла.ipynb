{
  "nbformat": 4,
  "nbformat_minor": 0,
  "metadata": {
    "colab": {
      "provenance": []
    },
    "kernelspec": {
      "name": "python3",
      "display_name": "Python 3"
    },
    "language_info": {
      "name": "python"
    }
  },
  "cells": [
    {
      "cell_type": "code",
      "execution_count": null,
      "metadata": {
        "id": "F4f2uc7jlh47"
      },
      "outputs": [],
      "source": [
        "import numpy as np"
      ]
    },
    {
      "cell_type": "code",
      "source": [
        "trud = [1, 2, 3, 4, 5, 6, 7, 8]\n",
        "pism = [6, 2, 7, 4, 1, 5, 3, 8]\n",
        "sobes = [1, 4, 2, 3, 6, 5, 8, 7]\n",
        "n = len(sobes)"
      ],
      "metadata": {
        "id": "zj9saBDMmQn3"
      },
      "execution_count": null,
      "outputs": []
    },
    {
      "cell_type": "code",
      "source": [
        "# Сравниваем трудовые успехи и письменный тест\n",
        "sovpad1 = np.zeros(8)\n",
        "for i in range(len(pism)):\n",
        "  for j in range(len(pism)):\n",
        "    if i<j and pism[i] < pism[j]:\n",
        "      sovpad1[i] += 1\n",
        "\n",
        "sovpad1"
      ],
      "metadata": {
        "colab": {
          "base_uri": "https://localhost:8080/"
        },
        "id": "HZBpdxI8mwaD",
        "outputId": "3cd155e3-5b65-4377-a79c-2e35f602a8ce"
      },
      "execution_count": null,
      "outputs": [
        {
          "output_type": "execute_result",
          "data": {
            "text/plain": [
              "array([2., 5., 1., 2., 3., 1., 1., 0.])"
            ]
          },
          "metadata": {},
          "execution_count": 6
        }
      ]
    },
    {
      "cell_type": "code",
      "source": [
        "invers1 = np.zeros(8)\n",
        "for i in range(len(pism)):\n",
        "  for j in range(len(pism)):\n",
        "    if i<j and pism[i] > pism[j]:\n",
        "      invers1[i] += 1\n",
        "\n",
        "invers1"
      ],
      "metadata": {
        "colab": {
          "base_uri": "https://localhost:8080/"
        },
        "id": "E3uLStHrpnAf",
        "outputId": "c687b062-2cfb-47cf-e4da-7b6add2e85e2"
      },
      "execution_count": null,
      "outputs": [
        {
          "output_type": "execute_result",
          "data": {
            "text/plain": [
              "array([5., 1., 4., 2., 0., 1., 0., 0.])"
            ]
          },
          "metadata": {},
          "execution_count": 8
        }
      ]
    },
    {
      "cell_type": "code",
      "source": [
        "# проверка\n",
        "sum(sovpad1) + sum(invers1), (n-1)*n/2"
      ],
      "metadata": {
        "colab": {
          "base_uri": "https://localhost:8080/"
        },
        "id": "IAjiFXiEp9sG",
        "outputId": "7c60fb4f-fcec-4118-c2ad-06dcd50b8ee4"
      },
      "execution_count": null,
      "outputs": [
        {
          "output_type": "execute_result",
          "data": {
            "text/plain": [
              "(28.0, 28.0)"
            ]
          },
          "metadata": {},
          "execution_count": 16
        }
      ]
    },
    {
      "cell_type": "code",
      "source": [
        "Temp1 = (sum(sovpad1) - sum(invers1))/((n-1)*n/2)\n",
        "Temp1"
      ],
      "metadata": {
        "colab": {
          "base_uri": "https://localhost:8080/"
        },
        "id": "D5bSHVFiqLpW",
        "outputId": "011202a7-311f-4e45-c0cb-ccf426b6fb66"
      },
      "execution_count": null,
      "outputs": [
        {
          "output_type": "execute_result",
          "data": {
            "text/plain": [
              "0.07142857142857142"
            ]
          },
          "metadata": {},
          "execution_count": 17
        }
      ]
    },
    {
      "cell_type": "code",
      "source": [
        "Tphi1 = abs(Temp1)*((n-2)/(1-Temp1 ** 2))**0.5\n",
        "Tкр = 2.306\n",
        "print('Tphi1 =', Tphi1)\n",
        "print('Tкр =', Tкр) "
      ],
      "metadata": {
        "colab": {
          "base_uri": "https://localhost:8080/"
        },
        "id": "vqsNpGCkqgy2",
        "outputId": "09734f90-4891-44a8-cf53-bfc1929b6bfb"
      },
      "execution_count": null,
      "outputs": [
        {
          "output_type": "stream",
          "name": "stdout",
          "text": [
            "Tphi1 = 0.17541160386140583\n",
            "Tкр = 2.306\n"
          ]
        }
      ]
    },
    {
      "cell_type": "markdown",
      "source": [
        "Н0: показатель корреляции значимо не отличается от нуля (является случайным).\n",
        "\n",
        "Н1: показатель корреляции значимо отличается от нуля (является неслучайным)"
      ],
      "metadata": {
        "id": "xLLH0qZesLDm"
      }
    },
    {
      "cell_type": "markdown",
      "source": [
        "Tкр > Tphi1 => приниматся гипотеза Н0"
      ],
      "metadata": {
        "id": "yE0PGtqQsCix"
      }
    },
    {
      "cell_type": "code",
      "source": [],
      "metadata": {
        "id": "QFdj_XXwrqWl"
      },
      "execution_count": null,
      "outputs": []
    },
    {
      "cell_type": "code",
      "source": [
        "# Сравниваем трудовые успехи и собеседование\n",
        "sovpad2 = np.zeros(8)\n",
        "for i in range(len(sobes)):\n",
        "  for j in range(len(sobes)):\n",
        "    if i<j and sobes[i] < sobes[j]:\n",
        "      sovpad2[i] += 1\n",
        "\n",
        "sovpad2"
      ],
      "metadata": {
        "colab": {
          "base_uri": "https://localhost:8080/"
        },
        "id": "-pDNKFDvqrYu",
        "outputId": "2a05fcb0-3764-4344-b9b7-0a3fbb7cfb29"
      },
      "execution_count": null,
      "outputs": [
        {
          "output_type": "execute_result",
          "data": {
            "text/plain": [
              "array([7., 4., 5., 4., 2., 2., 0., 0.])"
            ]
          },
          "metadata": {},
          "execution_count": 23
        }
      ]
    },
    {
      "cell_type": "code",
      "source": [
        "invers2 = np.zeros(8)\n",
        "for i in range(len(sobes)):\n",
        "  for j in range(len(sobes)):\n",
        "    if i<j and sobes[i] > sobes[j]:\n",
        "      invers2[i] += 1\n",
        "\n",
        "invers2"
      ],
      "metadata": {
        "colab": {
          "base_uri": "https://localhost:8080/"
        },
        "id": "QdtK5nsTrZml",
        "outputId": "1d3bdb3e-cc5b-436c-f365-062b6585116d"
      },
      "execution_count": null,
      "outputs": [
        {
          "output_type": "execute_result",
          "data": {
            "text/plain": [
              "array([0., 2., 0., 0., 1., 0., 1., 0.])"
            ]
          },
          "metadata": {},
          "execution_count": 24
        }
      ]
    },
    {
      "cell_type": "code",
      "source": [
        "# проверка\n",
        "sum(sovpad2) + sum(invers2), (n-1)*n/2"
      ],
      "metadata": {
        "colab": {
          "base_uri": "https://localhost:8080/"
        },
        "id": "PsdG9M9Ured9",
        "outputId": "faa7accb-0ff8-412e-8d78-11bd2d022733"
      },
      "execution_count": null,
      "outputs": [
        {
          "output_type": "execute_result",
          "data": {
            "text/plain": [
              "(28.0, 28.0)"
            ]
          },
          "metadata": {},
          "execution_count": 25
        }
      ]
    },
    {
      "cell_type": "code",
      "source": [
        "Temp2 = (sum(sovpad2) - sum(invers2))/((n-1)*n/2)\n",
        "Temp2"
      ],
      "metadata": {
        "colab": {
          "base_uri": "https://localhost:8080/"
        },
        "id": "qoEj4CBkrg29",
        "outputId": "8912f089-932b-4277-dec5-0a47bde27b1c"
      },
      "execution_count": null,
      "outputs": [
        {
          "output_type": "execute_result",
          "data": {
            "text/plain": [
              "0.7142857142857143"
            ]
          },
          "metadata": {},
          "execution_count": 26
        }
      ]
    },
    {
      "cell_type": "code",
      "source": [
        "Tphi2 = abs(Temp2)*((n-2)/(1-Temp2 ** 2))**0.5\n",
        "Tphi2"
      ],
      "metadata": {
        "colab": {
          "base_uri": "https://localhost:8080/"
        },
        "id": "97Ts-JHsrj6W",
        "outputId": "1b73ae70-f308-4731-daa2-10ac1085002c"
      },
      "execution_count": null,
      "outputs": [
        {
          "output_type": "execute_result",
          "data": {
            "text/plain": [
              "2.5"
            ]
          },
          "metadata": {},
          "execution_count": 27
        }
      ]
    },
    {
      "cell_type": "markdown",
      "source": [
        "Н0: показатель корреляции значимо не отличается от нуля (является случайным).\n",
        "\n",
        "Н1: показатель корреляции значимо отличается от нуля (является неслучайным)"
      ],
      "metadata": {
        "id": "ue6_Tr5VsQwU"
      }
    },
    {
      "cell_type": "markdown",
      "source": [
        "Tкр < Tphi2 => принимается гипотеза Н1"
      ],
      "metadata": {
        "id": "RncC4zdnsQqm"
      }
    },
    {
      "cell_type": "markdown",
      "source": [
        "**Оставляем этап собеседования**"
      ],
      "metadata": {
        "id": "L0R5IWGhsgS4"
      }
    },
    {
      "cell_type": "code",
      "source": [],
      "metadata": {
        "id": "vhlngIhUsicu"
      },
      "execution_count": null,
      "outputs": []
    },
    {
      "cell_type": "code",
      "source": [
        "from scipy.stats import kendalltau\n",
        "\n",
        "coef, p = kendalltau(trud, pism)\n",
        "print ('coef =', coef)\n",
        "print ('p =', p)"
      ],
      "metadata": {
        "colab": {
          "base_uri": "https://localhost:8080/"
        },
        "id": "i3LXKCZhtC2B",
        "outputId": "0d20f2e5-bfa1-4c19-f212-f746993b6ff6"
      },
      "execution_count": null,
      "outputs": [
        {
          "output_type": "stream",
          "name": "stdout",
          "text": [
            "coef = 0.07142857142857142\n",
            "p = 0.9048611111111111\n"
          ]
        }
      ]
    },
    {
      "cell_type": "markdown",
      "source": [
        "p>0,05 => принимаем Н0"
      ],
      "metadata": {
        "id": "tozKsR07tjfj"
      }
    },
    {
      "cell_type": "code",
      "source": [
        "coef, p = kendalltau(trud, sobes)\n",
        "print ('coef =', coef)\n",
        "print ('p =', p)"
      ],
      "metadata": {
        "colab": {
          "base_uri": "https://localhost:8080/"
        },
        "id": "acSCjRdxtSPP",
        "outputId": "074e1d1d-3c84-416a-d3b5-3d8461dcab0a"
      },
      "execution_count": null,
      "outputs": [
        {
          "output_type": "stream",
          "name": "stdout",
          "text": [
            "coef = 0.7142857142857142\n",
            "p = 0.014136904761904762\n"
          ]
        }
      ]
    },
    {
      "cell_type": "markdown",
      "source": [
        "p<0,05 => принимаем Н1"
      ],
      "metadata": {
        "id": "mySX5SIytqwE"
      }
    },
    {
      "cell_type": "code",
      "source": [],
      "metadata": {
        "id": "7vP_jhr2teon"
      },
      "execution_count": null,
      "outputs": []
    }
  ]
}