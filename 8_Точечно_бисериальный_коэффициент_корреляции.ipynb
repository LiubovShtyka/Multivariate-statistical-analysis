{
  "nbformat": 4,
  "nbformat_minor": 0,
  "metadata": {
    "colab": {
      "provenance": [],
      "collapsed_sections": []
    },
    "kernelspec": {
      "name": "python3",
      "display_name": "Python 3"
    },
    "language_info": {
      "name": "python"
    }
  },
  "cells": [
    {
      "cell_type": "code",
      "source": [
        "import numpy as np"
      ],
      "metadata": {
        "id": "f9ANb9Z59y6F"
      },
      "execution_count": null,
      "outputs": []
    },
    {
      "cell_type": "code",
      "execution_count": null,
      "metadata": {
        "id": "JFb5wVg29k0a"
      },
      "outputs": [],
      "source": [
        "gender = np.array([1, 0, 1, 1, 1, 0, 0, 1, 0, 0, 0, 0, 0, 1, 1, 1])\n",
        "IQ = np.array([103, 130, 116, 112, 106, 112, 84, 124, 105, 99, 138, 110, 121, 93, 113, 98])\n",
        "n = len(gender)"
      ]
    },
    {
      "cell_type": "code",
      "source": [
        "male = 0\n",
        "for i in range(n):\n",
        "  if gender[i] == 1:\n",
        "    male += 1\n",
        "print('Число юношей =', male)\n",
        "\n",
        "female = 0\n",
        "for i in range(n):\n",
        "  if gender[i] == 0:\n",
        "    female += 1\n",
        "print('Число девушек =', female)\n",
        "\n",
        "n = male + female\n",
        "print('Всего человек =', n)"
      ],
      "metadata": {
        "colab": {
          "base_uri": "https://localhost:8080/"
        },
        "id": "ikRXOafO-Hsq",
        "outputId": "0daf5f56-df68-4dda-d3fd-27f394e63d47"
      },
      "execution_count": null,
      "outputs": [
        {
          "output_type": "stream",
          "name": "stdout",
          "text": [
            "Число юношей = 8\n",
            "Число девушек = 8\n",
            "Всего человек = 16\n"
          ]
        }
      ]
    },
    {
      "cell_type": "code",
      "source": [
        "sum1 = count1 = 0\n",
        "for i in range(n):\n",
        "  if gender[i] == 1:\n",
        "    sum1 += IQ[i]\n",
        "    count1 += 1\n",
        "x1_cр = sum1/count1\n",
        "print('Cреднее значение коэффициента интеллекта для юношей =', x1_cр)\n",
        "\n",
        "sum0 = count0 = 0\n",
        "for i in range(n):\n",
        "  if gender[i] == 0:\n",
        "    sum0 += IQ[i]\n",
        "    count0 += 1\n",
        "x0_cр = sum0/count0\n",
        "print('Cреднее значение коэффициента интеллекта для девушек =', x0_cр)\n",
        "\n",
        "x_ср = sum(IQ)/n\n",
        "print('Cреднее значение коэффициента интеллекта для всех =', x_ср)"
      ],
      "metadata": {
        "colab": {
          "base_uri": "https://localhost:8080/"
        },
        "id": "lyAf9eUj-nV4",
        "outputId": "1cb3ca32-287e-4d2b-f96b-6d54f508b94a"
      },
      "execution_count": null,
      "outputs": [
        {
          "output_type": "stream",
          "name": "stdout",
          "text": [
            "Cреднее значение коэффициента интеллекта для юношей = 108.125\n",
            "Cреднее значение коэффициента интеллекта для девушек = 112.375\n",
            "Cреднее значение коэффициента интеллекта для всех = 110.25\n"
          ]
        }
      ]
    },
    {
      "cell_type": "code",
      "source": [
        "something = np.zeros(n)\n",
        "for i in range(n):\n",
        "  something[i] = IQ[i] - x_ср\n",
        "\n",
        "some = sum(something**2)\n",
        "Sy = (1/(n-1)*(some))"
      ],
      "metadata": {
        "id": "-57h6i4s-sJA"
      },
      "execution_count": null,
      "outputs": []
    },
    {
      "cell_type": "code",
      "source": [
        "Rбис = (x1_cр - x0_cр)/Sy * ((male*female)/(n*(n-1)))**0.5\n",
        "print('Бисериальный коэффициент корреляции =', Rбис)"
      ],
      "metadata": {
        "colab": {
          "base_uri": "https://localhost:8080/"
        },
        "id": "uwTtKwCsCWXg",
        "outputId": "4897e1c9-56e0-43ff-f45c-f69674e9d223"
      },
      "execution_count": null,
      "outputs": [
        {
          "output_type": "stream",
          "name": "stdout",
          "text": [
            "Бисериальный коэффициент корреляции = -0.011458530610081114\n"
          ]
        }
      ]
    },
    {
      "cell_type": "code",
      "source": [
        "Tphi = abs(Rбис)*((n-2)/(1-Rбис**2))**0.5\n",
        "Tкр = 2.145\n",
        "print('Преобразованное эмпирическое значение коэффициента =', Tphi)\n",
        "print('Критическое значение =', Tкр)"
      ],
      "metadata": {
        "colab": {
          "base_uri": "https://localhost:8080/"
        },
        "id": "lc2dZRxQDJoA",
        "outputId": "fb71bcf8-b8a4-4f46-b4f7-63dafee29dd2"
      },
      "execution_count": null,
      "outputs": [
        {
          "output_type": "stream",
          "name": "stdout",
          "text": [
            "Преобразованное эмпирическое значение коэффициента = 0.042876710602725625\n",
            "Критическое значение = 2.145\n"
          ]
        }
      ]
    },
    {
      "cell_type": "code",
      "source": [
        "if (Tphi < Tкр):\n",
        "  print('Не обнаружено связи между полом и уровнем интеллекта')\n",
        "else:\n",
        "  print('Между полом и уровнем интеллекта связь обнаружена')"
      ],
      "metadata": {
        "colab": {
          "base_uri": "https://localhost:8080/"
        },
        "id": "Ik8tcO7nDuoa",
        "outputId": "8f931f91-688a-450c-b025-c216e4589a7f"
      },
      "execution_count": null,
      "outputs": [
        {
          "output_type": "stream",
          "name": "stdout",
          "text": [
            "Не обнаружено связи между полом и уровнем интеллекта\n"
          ]
        }
      ]
    },
    {
      "cell_type": "code",
      "source": [],
      "metadata": {
        "id": "eAZRaqBIET2w"
      },
      "execution_count": null,
      "outputs": []
    }
  ]
}