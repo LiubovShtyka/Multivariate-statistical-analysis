{
  "nbformat": 4,
  "nbformat_minor": 0,
  "metadata": {
    "colab": {
      "provenance": [],
      "collapsed_sections": []
    },
    "kernelspec": {
      "name": "python3",
      "display_name": "Python 3"
    },
    "language_info": {
      "name": "python"
    }
  },
  "cells": [
    {
      "cell_type": "code",
      "execution_count": null,
      "metadata": {
        "id": "T5qrYnJWFfk8"
      },
      "outputs": [],
      "source": [
        "import numpy as np\n",
        "from scipy import stats"
      ]
    },
    {
      "cell_type": "code",
      "source": [
        "parents = np.array([109, 119, 110, 123, 109, 122, 102, 90, 111, 92, 111, 111, 116, 98, 121])\n",
        "children = np.array([109, 130, 131, 112, 106, 118, 102, 95, 111, 103, 129, 87, 99, 107, 100])"
      ],
      "metadata": {
        "id": "btGiZ-JyFjb-"
      },
      "execution_count": null,
      "outputs": []
    },
    {
      "cell_type": "code",
      "source": [
        "#Проверка данных на нормальность выборки родителей\n",
        "np.set_printoptions(precision=2) # количество цифр после точки при выводе в блокноте  ??\n",
        "stat,p=stats.normaltest(parents)  #  тест Хи-квадрат\n",
        "print('ХИ-квадрат:\\n',\"stat=%.2f\" %stat,\"p=%.5e\" %p)\n",
        "stat,p=stats.shapiro(parents)     #  тест Шапиро-Уилка\n",
        "print('шапиро:\\n',\"stat=%.2f\" %stat,\"p=%.2e\" %p)\n",
        "\n",
        "alpha = 0.05\n",
        "\n",
        "if alpha > p:\n",
        "  print('\\nРаспределение не нормально')\n",
        "else:\n",
        "  print('\\nРаспределение нормально')"
      ],
      "metadata": {
        "colab": {
          "base_uri": "https://localhost:8080/"
        },
        "id": "Bx_2LQ7nJAQO",
        "outputId": "143eb2ce-21b5-489f-921b-fac2c31fdd0f"
      },
      "execution_count": null,
      "outputs": [
        {
          "output_type": "stream",
          "name": "stdout",
          "text": [
            "ХИ-квадрат:\n",
            " stat=1.21 p=5.44986e-01\n",
            "шапиро:\n",
            " stat=0.92 p=2.07e-01\n",
            "\n",
            "Распределение нормально\n"
          ]
        }
      ]
    },
    {
      "cell_type": "code",
      "source": [
        "#Проверка данных на нормальность выборки детей\n",
        "np.set_printoptions(precision=2) # количество цифр после точки при выводе в блокноте  ??\n",
        "stat,p=stats.normaltest(children)  #  тест Хи-квадрат\n",
        "print('ХИ-квадрат:\\n',\"stat=%.2f\" %stat,\"p=%.5e\" %p)\n",
        "stat,p=stats.shapiro(children)     #  тест Шапиро-Уилка\n",
        "print('шапиро:\\n',\"stat=%.2f\" %stat,\"p=%.2e\" %p)\n",
        "\n",
        "if alpha > p:\n",
        "  print('\\nРаспределение не нормально')\n",
        "else:\n",
        "  print('\\nРаспределение нормально')"
      ],
      "metadata": {
        "colab": {
          "base_uri": "https://localhost:8080/"
        },
        "id": "W-mqhHAZJVKG",
        "outputId": "c1e1a711-c281-4473-a442-49b699740d02"
      },
      "execution_count": null,
      "outputs": [
        {
          "output_type": "stream",
          "name": "stdout",
          "text": [
            "ХИ-квадрат:\n",
            " stat=0.61 p=7.38093e-01\n",
            "шапиро:\n",
            " stat=0.94 p=3.89e-01\n",
            "\n",
            "Распределение нормально\n"
          ]
        }
      ]
    },
    {
      "cell_type": "code",
      "source": [
        "n = len(parents)\n",
        "Xp_ср = sum(parents)/n\n",
        "Xc_ср = sum(children)/n\n",
        "n"
      ],
      "metadata": {
        "colab": {
          "base_uri": "https://localhost:8080/"
        },
        "id": "z0XW7prcGX_y",
        "outputId": "7c31334b-11d6-40a7-c63a-28a71aca6c50"
      },
      "execution_count": null,
      "outputs": [
        {
          "output_type": "execute_result",
          "data": {
            "text/plain": [
              "15"
            ]
          },
          "metadata": {},
          "execution_count": 14
        }
      ]
    },
    {
      "cell_type": "code",
      "source": [
        "first_column = np.zeros(n)\n",
        "for i in range(n):\n",
        "  first_column[i] = parents[i] - Xp_ср\n",
        "\n",
        "Multiplication1 = first_column**2\n",
        "\n",
        "second_column = np.zeros(n)\n",
        "for i in range(n):\n",
        "  second_column[i] = children[i] - Xc_ср\n",
        "\n",
        "Multiplication2 = second_column**2\n",
        "\n",
        "General_Multiplication = first_column * second_column\n",
        "\n",
        "sum_parents = sum(parents)\n",
        "sum_children = sum(children)\n",
        "sum_Multiplication1 = sum(Multiplication1)\n",
        "sum_Multiplication2 = sum(Multiplication2)\n",
        "sum_General_Multiplication = sum(General_Multiplication)"
      ],
      "metadata": {
        "id": "pgqQMro3GmNa"
      },
      "execution_count": null,
      "outputs": []
    },
    {
      "cell_type": "code",
      "source": [
        "Rxy = sum_General_Multiplication/(sum_Multiplication1*sum_Multiplication2)**0.5\n",
        "Rкр = 2.12\n",
        "print('Rxy =', Rxy)\n",
        "print('Rкр =', Rкр)"
      ],
      "metadata": {
        "colab": {
          "base_uri": "https://localhost:8080/"
        },
        "id": "rGDHO0IHG-Ni",
        "outputId": "2ee4d852-2e5c-4db5-a62e-cea03f338f94"
      },
      "execution_count": null,
      "outputs": [
        {
          "output_type": "stream",
          "name": "stdout",
          "text": [
            "Rxy = 0.345689803963241\n",
            "Rкр = 2.12\n"
          ]
        }
      ]
    },
    {
      "cell_type": "code",
      "source": [
        "if (Rxy < Rкр):\n",
        "  print('Не обнаружено связи между уровнем интеллекта родителей и детей')\n",
        "else:\n",
        "  print('Между уровнем интеллекта родителей и детей связь обнаружена')"
      ],
      "metadata": {
        "colab": {
          "base_uri": "https://localhost:8080/"
        },
        "id": "adP_oYXWIF4S",
        "outputId": "f37b5407-a719-4dc9-e88e-0ad6b1936266"
      },
      "execution_count": null,
      "outputs": [
        {
          "output_type": "stream",
          "name": "stdout",
          "text": [
            "Не обнаружено связи между уровнем интеллекта родителей и детей\n"
          ]
        }
      ]
    },
    {
      "cell_type": "code",
      "source": [],
      "metadata": {
        "id": "7SZO3eblI0Cx"
      },
      "execution_count": null,
      "outputs": []
    },
    {
      "cell_type": "code",
      "source": [
        "# коэффициент линейной корреляции Пирсона (данные распределены нормально)\n",
        "# rn - N(10,2)\n",
        "\n",
        "stat,p=stats.pearsonr(parents, children)\n",
        "print(\"коэффициент корреляции Пирсона равен %.2f\" %stat)\n",
        "if p < alpha:\n",
        "  print (\"H0 отвергается, принимается H1 - коэффициент значим (связь есть)\")\n",
        "else:\n",
        "  print (\"H0 принимается - коэффициент незначим (связи нет)\")\n",
        "stat,p\n"
      ],
      "metadata": {
        "colab": {
          "base_uri": "https://localhost:8080/"
        },
        "id": "h2GLXnhaLAiv",
        "outputId": "cf2e3918-6fe3-4f73-964f-b2f63478f130"
      },
      "execution_count": null,
      "outputs": [
        {
          "output_type": "stream",
          "name": "stdout",
          "text": [
            "коэффициент корреляции Пирсона равен 0.35\n",
            "H0 принимается - коэффициент незначим (связи нет)\n"
          ]
        },
        {
          "output_type": "execute_result",
          "data": {
            "text/plain": [
              "(0.34568980396324117, 0.20692968178189577)"
            ]
          },
          "metadata": {},
          "execution_count": 36
        }
      ]
    },
    {
      "cell_type": "code",
      "source": [],
      "metadata": {
        "id": "q6feg5k_LlOq"
      },
      "execution_count": null,
      "outputs": []
    }
  ]
}