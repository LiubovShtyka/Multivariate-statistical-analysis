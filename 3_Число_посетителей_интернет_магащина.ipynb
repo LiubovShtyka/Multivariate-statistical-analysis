{
  "nbformat": 4,
  "nbformat_minor": 0,
  "metadata": {
    "colab": {
      "provenance": []
    },
    "kernelspec": {
      "name": "python3",
      "display_name": "Python 3"
    },
    "language_info": {
      "name": "python"
    }
  },
  "cells": [
    {
      "cell_type": "code",
      "execution_count": null,
      "metadata": {
        "id": "LXyvASnptlLA"
      },
      "outputs": [],
      "source": [
        "import numpy as np\n",
        "from numpy import random"
      ]
    },
    {
      "cell_type": "code",
      "source": [
        "n = 30\n",
        "buyers = np.floor(random.normal(1000, 100, n))\n",
        "number_of_purchases = buyers//100 + random.randint(-20, 20, 1)"
      ],
      "metadata": {
        "id": "ec4lQ2j1vwe3"
      },
      "execution_count": null,
      "outputs": []
    },
    {
      "cell_type": "code",
      "source": [
        "# max and min values\n",
        "print('Максимальные значения:')\n",
        "print('посетители =', max(buyers))\n",
        "print('покупки =', max(number_of_purchases))\n",
        "print('\\nМинимальные значения:')\n",
        "print('посетители =', min(buyers))\n",
        "print('покупки =', min(number_of_purchases))"
      ],
      "metadata": {
        "colab": {
          "base_uri": "https://localhost:8080/"
        },
        "id": "wqc-Njij6afn",
        "outputId": "8a29a109-4be4-403f-b170-a04eae83aee9"
      },
      "execution_count": null,
      "outputs": [
        {
          "output_type": "stream",
          "name": "stdout",
          "text": [
            "Максимальные значения:\n",
            "посетители = 1280.0\n",
            "покупки = 7.0\n",
            "\n",
            "Минимальные значения:\n",
            "посетители = 797.0\n",
            "покупки = 2.0\n"
          ]
        }
      ]
    },
    {
      "cell_type": "code",
      "source": [
        "print('Для количества посетителей:')\n",
        "print('среднее =', np.mean(buyers))\n",
        "print('медиана =', np.median(buyers))\n",
        "print('дисперсия =', np.var(buyers))\n",
        "print('стандартное отклонение =', np.std(buyers))\n",
        "print('\\nДля числа покупок:')\n",
        "print('среднее =', np.mean(number_of_purchases))\n",
        "print('медиана =', np.median(number_of_purchases))\n",
        "print('дисперсия =', np.var(number_of_purchases))\n",
        "print('стандартное отклонение =', np.std(number_of_purchases))"
      ],
      "metadata": {
        "colab": {
          "base_uri": "https://localhost:8080/"
        },
        "id": "slA5J51j7l3W",
        "outputId": "350734d1-cebb-42fd-b8cd-448c0ee852a5"
      },
      "execution_count": null,
      "outputs": [
        {
          "output_type": "stream",
          "name": "stdout",
          "text": [
            "Для количества посетителей:\n",
            "среднее = 1042.9333333333334\n",
            "медиана = 1059.5\n",
            "дисперсия = 12011.662222222221\n",
            "стандартное отклонение = 109.59772909245073\n",
            "\n",
            "Для числа покупок:\n",
            "среднее = 4.833333333333333\n",
            "медиана = 5.0\n",
            "дисперсия = 1.138888888888889\n",
            "стандартное отклонение = 1.0671873729054748\n"
          ]
        }
      ]
    },
    {
      "cell_type": "code",
      "source": [
        "print('Коэффициент корреляции:')\n",
        "np.corrcoef(buyers, number_of_purchases)"
      ],
      "metadata": {
        "colab": {
          "base_uri": "https://localhost:8080/"
        },
        "id": "RYMR5xv39W_G",
        "outputId": "120772f0-4467-4bc9-872e-2cf4bc9a3a2b"
      },
      "execution_count": null,
      "outputs": [
        {
          "output_type": "stream",
          "name": "stdout",
          "text": [
            "Коэффициент корреляции:\n"
          ]
        },
        {
          "output_type": "execute_result",
          "data": {
            "text/plain": [
              "array([[1.        , 0.97031135],\n",
              "       [0.97031135, 1.        ]])"
            ]
          },
          "metadata": {},
          "execution_count": 41
        }
      ]
    },
    {
      "cell_type": "markdown",
      "source": [
        "Вывод: Коэффициент корреляции близок к 1 => сильная связь"
      ],
      "metadata": {
        "id": "LHWW5Mkn_Du1"
      }
    },
    {
      "cell_type": "code",
      "source": [
        "half = len(buyers)//2+1\n",
        "print('посетителей в первой половине месяца было', np.sum(buyers[:half]))\n",
        "print('посетителей во второй половине месяца было', np.sum(buyers[half:]))"
      ],
      "metadata": {
        "colab": {
          "base_uri": "https://localhost:8080/"
        },
        "id": "x2V5JUkS9iAm",
        "outputId": "03c48ba9-2941-403e-e9bb-79a749705451"
      },
      "execution_count": null,
      "outputs": [
        {
          "output_type": "stream",
          "name": "stdout",
          "text": [
            "посетителей в первой половине месяца было 16357.0\n",
            "посетителей во второй половине месяца было 14931.0\n"
          ]
        }
      ]
    },
    {
      "cell_type": "markdown",
      "source": [
        "Вывод: В первой половине месяца посетителей было больше"
      ],
      "metadata": {
        "id": "IAd6zQeRAf22"
      }
    },
    {
      "cell_type": "code",
      "source": [
        "for i in range (len(buyers)):\n",
        "  if (i == 5) | (i == 12) | (i == 19) | (i == 26):\n",
        "    print ('Посетителей в субботу было', buyers[i])\n",
        "print('\\n')\n",
        "for i in range (len(number_of_purchases)):\n",
        "  if (i == 5) | (i == 12) | (i == 19) | (i == 26):\n",
        "    print ('Покупок в субботу было', number_of_purchases[i])"
      ],
      "metadata": {
        "colab": {
          "base_uri": "https://localhost:8080/"
        },
        "id": "b95WgYJIDhDO",
        "outputId": "d4ee6ad4-1b93-4852-8dc5-22ee20e4d498"
      },
      "execution_count": null,
      "outputs": [
        {
          "output_type": "stream",
          "name": "stdout",
          "text": [
            "Посетителей в субботу было 1043.0\n",
            "Посетителей в субботу было 1081.0\n",
            "Посетителей в субботу было 1164.0\n",
            "Посетителей в субботу было 1280.0\n",
            "\n",
            "\n",
            "Покупок в субботу было 5.0\n",
            "Покупок в субботу было 5.0\n",
            "Покупок в субботу было 6.0\n",
            "Покупок в субботу было 7.0\n"
          ]
        }
      ]
    },
    {
      "cell_type": "code",
      "source": [
        "buyers[5::7], number_of_purchases[5::7]"
      ],
      "metadata": {
        "colab": {
          "base_uri": "https://localhost:8080/"
        },
        "id": "bcw9dGzGKSgE",
        "outputId": "e69105a0-c020-43da-e331-65d7c904576d"
      },
      "execution_count": null,
      "outputs": [
        {
          "output_type": "execute_result",
          "data": {
            "text/plain": [
              "(array([1043., 1081., 1164., 1280.]), array([5., 5., 6., 7.]))"
            ]
          },
          "metadata": {},
          "execution_count": 89
        }
      ]
    },
    {
      "cell_type": "code",
      "source": [
        "for i in buyers[:len(buyers)]:\n",
        "  if i > 1000:\n",
        "    print('посетители:', i)"
      ],
      "metadata": {
        "colab": {
          "base_uri": "https://localhost:8080/"
        },
        "id": "tjow_0KpEg6e",
        "outputId": "0fae75ed-7056-4f5d-a561-8bf2a857ee76"
      },
      "execution_count": null,
      "outputs": [
        {
          "output_type": "stream",
          "name": "stdout",
          "text": [
            "посетители: 1072.0\n",
            "посетители: 1194.0\n",
            "посетители: 1031.0\n",
            "посетители: 1043.0\n",
            "посетители: 1091.0\n",
            "посетители: 1082.0\n",
            "посетители: 1011.0\n",
            "посетители: 1081.0\n",
            "посетители: 1078.0\n",
            "посетители: 1248.0\n",
            "посетители: 1085.0\n",
            "посетители: 1083.0\n",
            "посетители: 1147.0\n",
            "посетители: 1164.0\n",
            "посетители: 1048.0\n",
            "посетители: 1071.0\n",
            "посетители: 1002.0\n",
            "посетители: 1072.0\n",
            "посетители: 1280.0\n",
            "посетители: 1044.0\n",
            "посетители: 1126.0\n"
          ]
        }
      ]
    },
    {
      "cell_type": "code",
      "source": [
        "print(buyers[buyers > 1000])\n",
        "print('\\n',buyers[(buyers < 900) & (buyers > 500)])"
      ],
      "metadata": {
        "colab": {
          "base_uri": "https://localhost:8080/"
        },
        "id": "rVCfGPbqKmIB",
        "outputId": "72997a3d-68e2-435f-e384-6a10bbcf5d5e"
      },
      "execution_count": null,
      "outputs": [
        {
          "output_type": "stream",
          "name": "stdout",
          "text": [
            "[1072. 1194. 1031. 1043. 1091. 1082. 1011. 1081. 1078. 1248. 1085. 1083.\n",
            " 1147. 1164. 1048. 1071. 1002. 1072. 1280. 1044. 1126.]\n",
            "\n",
            " [840. 797. 828.]\n"
          ]
        }
      ]
    },
    {
      "cell_type": "code",
      "source": [
        "for i in buyers[:len(buyers)]:\n",
        "  if (i > 10) and (i < 100):\n",
        "    print('посетители:', i)"
      ],
      "metadata": {
        "id": "E2FJBNruIWKE"
      },
      "execution_count": null,
      "outputs": []
    },
    {
      "cell_type": "code",
      "source": [
        "print(buyers[number_of_purchases < 5])"
      ],
      "metadata": {
        "colab": {
          "base_uri": "https://localhost:8080/"
        },
        "id": "_6f4cWbQItdp",
        "outputId": "ca910aa2-96f1-4437-9d61-07312eceb813"
      },
      "execution_count": null,
      "outputs": [
        {
          "output_type": "stream",
          "name": "stdout",
          "text": [
            "[939. 964. 840. 968. 797. 918. 995. 986. 828.]\n"
          ]
        }
      ]
    },
    {
      "cell_type": "code",
      "source": [
        "number_of_purchases"
      ],
      "metadata": {
        "colab": {
          "base_uri": "https://localhost:8080/"
        },
        "id": "aWt2VNLjJAvu",
        "outputId": "0c670fde-502b-4929-dc6e-3aedc37d5597"
      },
      "execution_count": null,
      "outputs": [
        {
          "output_type": "execute_result",
          "data": {
            "text/plain": [
              "array([5., 6., 5., 4., 4., 5., 3., 5., 5., 4., 2., 5., 5., 5., 4., 7., 5.,\n",
              "       5., 6., 6., 5., 5., 5., 4., 5., 4., 7., 5., 3., 6.])"
            ]
          },
          "metadata": {},
          "execution_count": 85
        }
      ]
    },
    {
      "cell_type": "code",
      "source": [
        "buyers"
      ],
      "metadata": {
        "colab": {
          "base_uri": "https://localhost:8080/"
        },
        "id": "x59y7itiJpXW",
        "outputId": "3d5dd592-f690-45e7-c952-e95e05be9ca0"
      },
      "execution_count": null,
      "outputs": [
        {
          "output_type": "execute_result",
          "data": {
            "text/plain": [
              "array([1072., 1194., 1031.,  939.,  964., 1043.,  840., 1091., 1082.,\n",
              "        968.,  797., 1011., 1081., 1078.,  918., 1248., 1085., 1083.,\n",
              "       1147., 1164., 1048., 1071., 1002.,  995., 1072.,  986., 1280.,\n",
              "       1044.,  828., 1126.])"
            ]
          },
          "metadata": {},
          "execution_count": 99
        }
      ]
    }
  ]
}