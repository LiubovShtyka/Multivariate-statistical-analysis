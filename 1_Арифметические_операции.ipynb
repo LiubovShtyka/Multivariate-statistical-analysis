{
  "nbformat": 4,
  "nbformat_minor": 0,
  "metadata": {
    "colab": {
      "provenance": []
    },
    "kernelspec": {
      "name": "python3",
      "display_name": "Python 3"
    },
    "language_info": {
      "name": "python"
    }
  },
  "cells": [
    {
      "cell_type": "markdown",
      "source": [
        "# Арифметические операции над целыми числами"
      ],
      "metadata": {
        "id": "uyTZH_kLWMeE"
      }
    },
    {
      "cell_type": "code",
      "execution_count": 62,
      "metadata": {
        "colab": {
          "base_uri": "https://localhost:8080/",
          "height": 0
        },
        "id": "LC75IYulUI8I",
        "outputId": "9516ad89-8bf4-40fa-ee7c-d9fac28a885c"
      },
      "outputs": [
        {
          "output_type": "stream",
          "name": "stdout",
          "text": [
            "67 + 48 = 115\n"
          ]
        }
      ],
      "source": [
        "a = 67\n",
        "b = 48\n",
        "c = a + b # сложение\n",
        "print(a, \"+\", b, \"=\", c)"
      ]
    },
    {
      "cell_type": "code",
      "source": [
        "c = a - b # вычитание\n",
        "print(a, \"-\", b, \"=\", c)"
      ],
      "metadata": {
        "colab": {
          "base_uri": "https://localhost:8080/",
          "height": 0
        },
        "id": "2-bNU0zNU1QU",
        "outputId": "4ed55e78-e548-49c7-a6a8-f06d041e6181"
      },
      "execution_count": 63,
      "outputs": [
        {
          "output_type": "stream",
          "name": "stdout",
          "text": [
            "67 - 48 = 19\n"
          ]
        }
      ]
    },
    {
      "cell_type": "code",
      "source": [
        "c = a * b # умножение\n",
        "print(a, \"*\", b, \"=\", c)"
      ],
      "metadata": {
        "colab": {
          "base_uri": "https://localhost:8080/",
          "height": 0
        },
        "id": "5uqFybJ_U39U",
        "outputId": "00b474ff-8230-456c-f667-4be5e0311e06"
      },
      "execution_count": 64,
      "outputs": [
        {
          "output_type": "stream",
          "name": "stdout",
          "text": [
            "67 * 48 = 3216\n"
          ]
        }
      ]
    },
    {
      "cell_type": "code",
      "source": [
        "c = a / b # деление\n",
        "print(a, \"/\", b, \"=\", c)"
      ],
      "metadata": {
        "colab": {
          "base_uri": "https://localhost:8080/",
          "height": 0
        },
        "id": "p3OdgJ1EVB1E",
        "outputId": "4b1d4117-2ff2-47e9-b263-07e2aedb3a84"
      },
      "execution_count": 65,
      "outputs": [
        {
          "output_type": "stream",
          "name": "stdout",
          "text": [
            "67 / 48 = 1.3958333333333333\n"
          ]
        }
      ]
    },
    {
      "cell_type": "code",
      "source": [
        "c = a // b # целочисленное деление\n",
        "print(a, \"//\", b, \"=\", c)"
      ],
      "metadata": {
        "colab": {
          "base_uri": "https://localhost:8080/",
          "height": 0
        },
        "id": "IGzt7XmVVD58",
        "outputId": "f4368805-7fc7-41f9-af6d-1cd4b7f93e7d"
      },
      "execution_count": 66,
      "outputs": [
        {
          "output_type": "stream",
          "name": "stdout",
          "text": [
            "67 // 48 = 1\n"
          ]
        }
      ]
    },
    {
      "cell_type": "code",
      "source": [
        "c = a % b # процент от остатка\n",
        "print(a, \"%\", b, \"=\", c)"
      ],
      "metadata": {
        "colab": {
          "base_uri": "https://localhost:8080/",
          "height": 0
        },
        "id": "SVWYhD4xVGsk",
        "outputId": "2f99a82c-de44-47c3-84ce-2d26b0089394"
      },
      "execution_count": 67,
      "outputs": [
        {
          "output_type": "stream",
          "name": "stdout",
          "text": [
            "67 % 48 = 19\n"
          ]
        }
      ]
    },
    {
      "cell_type": "code",
      "source": [
        "c = a ** 4 # a в 4 степени\n",
        "print(a, \"** 4\", \"=\", c)\n",
        "c = b ** 3 # b в 3 степени\n",
        "print(b, \"** 3\", \"=\", c)"
      ],
      "metadata": {
        "colab": {
          "base_uri": "https://localhost:8080/",
          "height": 0
        },
        "id": "yx1hpd1LVVyt",
        "outputId": "9a5638b6-675f-4473-dcce-9fe244aa7849"
      },
      "execution_count": 9,
      "outputs": [
        {
          "output_type": "stream",
          "name": "stdout",
          "text": [
            "67 ** 4 = 20151121\n",
            "48 ** 3 = 110592\n"
          ]
        }
      ]
    },
    {
      "cell_type": "markdown",
      "source": [
        "# Операции над вещественными числами\n",
        "\n",
        "\n",
        "---\n",
        "\n"
      ],
      "metadata": {
        "id": "FvM9H2mHWPmx"
      }
    },
    {
      "cell_type": "code",
      "source": [
        "a = 32.5\n",
        "b = 13.12\n",
        "c = a + b # сложение\n",
        "print(a, \"+\", b, \"=\", c)"
      ],
      "metadata": {
        "colab": {
          "base_uri": "https://localhost:8080/",
          "height": 0
        },
        "id": "JSNi0CGQVmXD",
        "outputId": "4f189236-acbd-481a-c9a5-a6c23276cfcc"
      },
      "execution_count": 10,
      "outputs": [
        {
          "output_type": "stream",
          "name": "stdout",
          "text": [
            "32.5 + 13.12 = 45.62\n"
          ]
        }
      ]
    },
    {
      "cell_type": "code",
      "source": [
        "c = a - b # вычитание\n",
        "print(a, \"-\", b, \"=\", c)"
      ],
      "metadata": {
        "colab": {
          "base_uri": "https://localhost:8080/",
          "height": 0
        },
        "id": "H4AkkK2kV5Al",
        "outputId": "1ee3ac65-64a6-47f1-f3a7-53e30fb78014"
      },
      "execution_count": 11,
      "outputs": [
        {
          "output_type": "stream",
          "name": "stdout",
          "text": [
            "32.5 - 13.12 = 19.380000000000003\n"
          ]
        }
      ]
    },
    {
      "cell_type": "code",
      "source": [
        "c = a * b # умножение\n",
        "print(a, \"*\", b, \"=\", c)"
      ],
      "metadata": {
        "colab": {
          "base_uri": "https://localhost:8080/",
          "height": 0
        },
        "id": "IlzAqcJdWDRd",
        "outputId": "be632644-592f-4458-a3e3-d3f079a88961"
      },
      "execution_count": 12,
      "outputs": [
        {
          "output_type": "stream",
          "name": "stdout",
          "text": [
            "32.5 * 13.12 = 426.4\n"
          ]
        }
      ]
    },
    {
      "cell_type": "code",
      "source": [
        "c = a / b # деление\n",
        "print(a, \"/\", b, \"=\", c)"
      ],
      "metadata": {
        "colab": {
          "base_uri": "https://localhost:8080/",
          "height": 0
        },
        "id": "goq0nXLlWFC9",
        "outputId": "e3ce3118-f3a3-4f05-d810-6c90b0bc452e"
      },
      "execution_count": 13,
      "outputs": [
        {
          "output_type": "stream",
          "name": "stdout",
          "text": [
            "32.5 / 13.12 = 2.477134146341464\n"
          ]
        }
      ]
    },
    {
      "cell_type": "code",
      "source": [
        "c = a // b # целочисленное деление\n",
        "print(a, \"//\", b, \"=\", c)"
      ],
      "metadata": {
        "colab": {
          "base_uri": "https://localhost:8080/",
          "height": 0
        },
        "id": "NgekJYb_WGut",
        "outputId": "37fff067-7c66-40a7-d246-b15471f51f4e"
      },
      "execution_count": 14,
      "outputs": [
        {
          "output_type": "stream",
          "name": "stdout",
          "text": [
            "32.5 // 13.12 = 2.0\n"
          ]
        }
      ]
    },
    {
      "cell_type": "code",
      "source": [
        "c = a % b # процент от остатка\n",
        "print(a, \"%\", b, \"=\", c)"
      ],
      "metadata": {
        "colab": {
          "base_uri": "https://localhost:8080/",
          "height": 0
        },
        "id": "DEHoHtSGWIVD",
        "outputId": "273c8937-48ca-4357-cf01-8f90b2f7d924"
      },
      "execution_count": 15,
      "outputs": [
        {
          "output_type": "stream",
          "name": "stdout",
          "text": [
            "32.5 // 13.12 = 6.260000000000002\n"
          ]
        }
      ]
    },
    {
      "cell_type": "code",
      "source": [
        "c = a ** 2 # a в 3 степени\n",
        "print(a, \"^ 2\", \"=\", c)\n",
        "c = b ** 3 # b в 3 степени\n",
        "print(b, \"^ 3\", \"=\", c)"
      ],
      "metadata": {
        "colab": {
          "base_uri": "https://localhost:8080/",
          "height": 0
        },
        "id": "gbKu9QiSWXcM",
        "outputId": "03b0b646-86d1-4017-ad90-56a587f11041"
      },
      "execution_count": 34,
      "outputs": [
        {
          "output_type": "stream",
          "name": "stdout",
          "text": [
            "True ^ 2 = 1\n",
            "False ^ 3 = 0\n"
          ]
        }
      ]
    },
    {
      "cell_type": "markdown",
      "source": [
        "# Операции над строками"
      ],
      "metadata": {
        "id": "XLiNuljKWjYd"
      }
    },
    {
      "cell_type": "code",
      "source": [
        "a = 'Мир'\n",
        "b = '1984'\n",
        "c = a + b # сложение\n",
        "print(a, \"+\", b, \"=\", c)"
      ],
      "metadata": {
        "colab": {
          "base_uri": "https://localhost:8080/",
          "height": 0
        },
        "id": "YGS2kKbQWolb",
        "outputId": "05aa9591-d197-4af0-c738-8a5d2364fc4b"
      },
      "execution_count": 43,
      "outputs": [
        {
          "output_type": "stream",
          "name": "stdout",
          "text": [
            "Мир + 1984 = Мир1984\n"
          ]
        }
      ]
    },
    {
      "cell_type": "markdown",
      "source": [
        "Вычитание для строк посчитать нельзя \n",
        "\n"
      ],
      "metadata": {
        "id": "FPusMyDzXWkh"
      }
    },
    {
      "cell_type": "code",
      "source": [
        "c = a * 2 # умножение\n",
        "print(a, \"*\", 2, \"=\", c)\n",
        "c = b * 3 # умножение\n",
        "print(b, \"*\", 3, \"=\", c)"
      ],
      "metadata": {
        "colab": {
          "base_uri": "https://localhost:8080/",
          "height": 0
        },
        "id": "EvSLGL3YbD7R",
        "outputId": "2c62b5fc-49e3-442f-a9d0-edb655e75676"
      },
      "execution_count": 44,
      "outputs": [
        {
          "output_type": "stream",
          "name": "stdout",
          "text": [
            "Мир * 2 = МирМир\n",
            "1984 * 3 = 198419841984\n"
          ]
        }
      ]
    },
    {
      "cell_type": "markdown",
      "source": [
        "Деление для строк посчитать нельзя"
      ],
      "metadata": {
        "id": "JOwaIe8_X9Qz"
      }
    },
    {
      "cell_type": "markdown",
      "source": [
        "Целочисленное деление для строк посчитать сделать нельзя"
      ],
      "metadata": {
        "id": "rZLnxK0OYEKh"
      }
    },
    {
      "cell_type": "markdown",
      "source": [
        "Процент от остатка для строк посчитать нельзя"
      ],
      "metadata": {
        "id": "VkSg82e0Yxsk"
      }
    },
    {
      "cell_type": "markdown",
      "source": [
        "Строки в степень возвести нельзя"
      ],
      "metadata": {
        "id": "1dXyL6x5Y1Me"
      }
    },
    {
      "cell_type": "markdown",
      "source": [
        "# Операции для логических переменных"
      ],
      "metadata": {
        "id": "6ACYmxjsZByD"
      }
    },
    {
      "cell_type": "code",
      "source": [
        "a = True\n",
        "b = False\n",
        "c = a + b # сложение\n",
        "print(a, \"+\", b, \"=\", c)"
      ],
      "metadata": {
        "colab": {
          "base_uri": "https://localhost:8080/",
          "height": 0
        },
        "id": "t92a1ILqZGdQ",
        "outputId": "a47a9576-9bc8-47ba-dd37-6cb55bb0fb34"
      },
      "execution_count": 27,
      "outputs": [
        {
          "output_type": "stream",
          "name": "stdout",
          "text": [
            "True + False = 1\n"
          ]
        }
      ]
    },
    {
      "cell_type": "code",
      "source": [
        "c = a - b # вычитание\n",
        "print(a, \"-\", b, \"=\", c)"
      ],
      "metadata": {
        "colab": {
          "base_uri": "https://localhost:8080/",
          "height": 0
        },
        "id": "5ocNExyxZM3a",
        "outputId": "e6f3e1c1-3f09-44fb-a514-92b74891d2e7"
      },
      "execution_count": 28,
      "outputs": [
        {
          "output_type": "stream",
          "name": "stdout",
          "text": [
            "True - False = 1\n"
          ]
        }
      ]
    },
    {
      "cell_type": "code",
      "source": [
        "c = a * b # умножение\n",
        "print(a, \"*\", b, \"=\", c)"
      ],
      "metadata": {
        "colab": {
          "base_uri": "https://localhost:8080/",
          "height": 0
        },
        "id": "gfQR2jReZQA6",
        "outputId": "6443f73c-a774-4225-8c3a-ea4e31996747"
      },
      "execution_count": 29,
      "outputs": [
        {
          "output_type": "stream",
          "name": "stdout",
          "text": [
            "True * False = 0\n"
          ]
        }
      ]
    },
    {
      "cell_type": "markdown",
      "source": [
        "Деление для логических переменных вычислить нельзя"
      ],
      "metadata": {
        "id": "Hh_TsZ9DZWLi"
      }
    },
    {
      "cell_type": "markdown",
      "source": [
        "Целочисленное деление для логических переменных вычислить нельзя"
      ],
      "metadata": {
        "id": "QzmHEnN0ZfSp"
      }
    },
    {
      "cell_type": "markdown",
      "source": [
        "Процент от остатка вычислить нельзя"
      ],
      "metadata": {
        "id": "7mrPDttpZl-Y"
      }
    },
    {
      "cell_type": "code",
      "source": [
        "c = a ** 2 # a в 3 степени\n",
        "print(a, \"^ 2\", \"=\", c)\n",
        "c = b ** 3 # b в 3 степени\n",
        "print(b, \"^ 3\", \"=\", c)"
      ],
      "metadata": {
        "colab": {
          "base_uri": "https://localhost:8080/",
          "height": 0
        },
        "id": "raOQgauGZr30",
        "outputId": "bd79e775-16d9-45d3-ba94-37787b60b0d7"
      },
      "execution_count": 33,
      "outputs": [
        {
          "output_type": "stream",
          "name": "stdout",
          "text": [
            "True ^ 2 = 1\n",
            "False ^ 3 = 0\n"
          ]
        }
      ]
    },
    {
      "cell_type": "markdown",
      "source": [
        "# Операции для комплексных переменных"
      ],
      "metadata": {
        "id": "qfq_W6gmaGZH"
      }
    },
    {
      "cell_type": "code",
      "source": [
        "a = complex(3,4)\n",
        "b = complex(2,3)\n",
        "c = a + b # сложение\n",
        "print(a, \"+\", b, \"=\", c)"
      ],
      "metadata": {
        "colab": {
          "base_uri": "https://localhost:8080/",
          "height": 0
        },
        "id": "iycKxNzgZsXR",
        "outputId": "a65accbf-45bc-4dea-dd59-b6a0053cce2c"
      },
      "execution_count": 35,
      "outputs": [
        {
          "output_type": "stream",
          "name": "stdout",
          "text": [
            "(3+4j) + (2+3j) = (5+7j)\n"
          ]
        }
      ]
    },
    {
      "cell_type": "code",
      "source": [
        "c = a - b # вычитание\n",
        "print(a, \"-\", b, \"=\", c)"
      ],
      "metadata": {
        "colab": {
          "base_uri": "https://localhost:8080/",
          "height": 0
        },
        "id": "7TBM3YFGaZ16",
        "outputId": "7ebd15b2-229b-4677-ec00-eabe40abef9c"
      },
      "execution_count": 36,
      "outputs": [
        {
          "output_type": "stream",
          "name": "stdout",
          "text": [
            "(3+4j) - (2+3j) = (1+1j)\n"
          ]
        }
      ]
    },
    {
      "cell_type": "code",
      "source": [
        "c = a * b # умножение\n",
        "print(a, \"*\", b, \"=\", c)"
      ],
      "metadata": {
        "colab": {
          "base_uri": "https://localhost:8080/",
          "height": 0
        },
        "id": "wClb0OLvadBZ",
        "outputId": "59e3bc7a-a5f4-4287-f0c9-130cd6d761de"
      },
      "execution_count": 37,
      "outputs": [
        {
          "output_type": "stream",
          "name": "stdout",
          "text": [
            "(3+4j) * (2+3j) = (-6+17j)\n"
          ]
        }
      ]
    },
    {
      "cell_type": "code",
      "source": [
        "c = a / b # деление\n",
        "print(a, \"/\", b, \"=\", c)"
      ],
      "metadata": {
        "colab": {
          "base_uri": "https://localhost:8080/",
          "height": 0
        },
        "id": "uot4wSyRafah",
        "outputId": "30d90581-b1a7-4393-c320-a0fc32751a95"
      },
      "execution_count": 38,
      "outputs": [
        {
          "output_type": "stream",
          "name": "stdout",
          "text": [
            "(3+4j) / (2+3j) = (1.3846153846153848-0.07692307692307697j)\n"
          ]
        }
      ]
    },
    {
      "cell_type": "markdown",
      "source": [
        "Целочисленное деление для комплексных переменных не считается"
      ],
      "metadata": {
        "id": "vK9tSwA2an9y"
      }
    },
    {
      "cell_type": "markdown",
      "source": [
        "Процент от остатка для комплексных переменных не вычисляется"
      ],
      "metadata": {
        "id": "0P0EyWsta0g1"
      }
    },
    {
      "cell_type": "code",
      "source": [
        "c = a ** 2 # a в 3 степени\n",
        "print(a, \"^ 2\", \"=\", c)\n",
        "c = b ** 3 # b в 3 степени\n",
        "print(b, \"^ 3\", \"=\", c)"
      ],
      "metadata": {
        "colab": {
          "base_uri": "https://localhost:8080/",
          "height": 0
        },
        "id": "QmcTbi20azV5",
        "outputId": "7582c723-fa7a-4575-90dd-3bdb7db13e0e"
      },
      "execution_count": 41,
      "outputs": [
        {
          "output_type": "stream",
          "name": "stdout",
          "text": [
            "(3+4j) ^ 2 = (-7+24j)\n",
            "(2+3j) ^ 3 = (-46+9j)\n"
          ]
        }
      ]
    },
    {
      "cell_type": "markdown",
      "source": [
        "# Операции с тригонометрическими функциями"
      ],
      "metadata": {
        "id": "Igo4kkklbfQ1"
      }
    },
    {
      "cell_type": "code",
      "source": [
        "import math"
      ],
      "metadata": {
        "id": "CXm7nDtUbeOF"
      },
      "execution_count": 47,
      "outputs": []
    },
    {
      "cell_type": "code",
      "source": [
        "a = math.pi\n",
        "b = math.sin(a)\n",
        "print (a, b)"
      ],
      "metadata": {
        "colab": {
          "base_uri": "https://localhost:8080/",
          "height": 0
        },
        "id": "D9bRyvpWbnwN",
        "outputId": "5ad709da-9f97-463e-ea5e-175a80570461"
      },
      "execution_count": 69,
      "outputs": [
        {
          "output_type": "stream",
          "name": "stdout",
          "text": [
            "3.141592653589793 1.2246467991473532e-16\n"
          ]
        }
      ]
    },
    {
      "cell_type": "code",
      "source": [
        "c = a + b # сложение\n",
        "print(a, \"+\", b, \"=\", c)"
      ],
      "metadata": {
        "colab": {
          "base_uri": "https://localhost:8080/",
          "height": 0
        },
        "id": "koxxV0QMbyAF",
        "outputId": "1b3338d3-3472-4fe7-ae70-182c6ea07159"
      },
      "execution_count": 70,
      "outputs": [
        {
          "output_type": "stream",
          "name": "stdout",
          "text": [
            "3.141592653589793 + 1.2246467991473532e-16 = 3.141592653589793\n"
          ]
        }
      ]
    },
    {
      "cell_type": "code",
      "source": [
        "c = a - b # вычитание\n",
        "print(a, \"-\", b, \"=\", c)"
      ],
      "metadata": {
        "colab": {
          "base_uri": "https://localhost:8080/",
          "height": 0
        },
        "id": "46mZWVUmcLQ4",
        "outputId": "9441b061-6480-475a-8c33-1bc7f87c2665"
      },
      "execution_count": 71,
      "outputs": [
        {
          "output_type": "stream",
          "name": "stdout",
          "text": [
            "3.141592653589793 - 1.2246467991473532e-16 = 3.141592653589793\n"
          ]
        }
      ]
    },
    {
      "cell_type": "code",
      "source": [
        "c = a * b # умножение\n",
        "print(a, \"*\", b, \"=\", c)"
      ],
      "metadata": {
        "colab": {
          "base_uri": "https://localhost:8080/",
          "height": 0
        },
        "id": "BFjGgb0NcOfg",
        "outputId": "a2b386bd-a443-499b-fcb7-6a8f37bef1ac"
      },
      "execution_count": 72,
      "outputs": [
        {
          "output_type": "stream",
          "name": "stdout",
          "text": [
            "3.141592653589793 * 1.2246467991473532e-16 = 3.8473413874435795e-16\n"
          ]
        }
      ]
    },
    {
      "cell_type": "code",
      "source": [
        "c = a / b # деление\n",
        "print(a, \"/\", b, \"=\", c)"
      ],
      "metadata": {
        "colab": {
          "base_uri": "https://localhost:8080/",
          "height": 0
        },
        "id": "XzAwwkvucROQ",
        "outputId": "85b92dfc-1cc0-4a02-c5e9-b754180021a8"
      },
      "execution_count": 73,
      "outputs": [
        {
          "output_type": "stream",
          "name": "stdout",
          "text": [
            "3.141592653589793 / 1.2246467991473532e-16 = 2.5653050788007548e+16\n"
          ]
        }
      ]
    },
    {
      "cell_type": "code",
      "source": [
        "c = a // b # целочисленное деление\n",
        "print(a, \"//\", b, \"=\", c)"
      ],
      "metadata": {
        "colab": {
          "base_uri": "https://localhost:8080/",
          "height": 0
        },
        "id": "rCv1_51HcUR4",
        "outputId": "94c61e6e-cc82-46c0-8cbb-db1b3be88e60"
      },
      "execution_count": 74,
      "outputs": [
        {
          "output_type": "stream",
          "name": "stdout",
          "text": [
            "3.141592653589793 // 1.2246467991473532e-16 = 2.5653050788007548e+16\n"
          ]
        }
      ]
    },
    {
      "cell_type": "code",
      "source": [
        "c = a % b # процент от остатка\n",
        "print(a, \"%\", b, \"=\", c)"
      ],
      "metadata": {
        "colab": {
          "base_uri": "https://localhost:8080/",
          "height": 0
        },
        "id": "wjqj1R5WcXQA",
        "outputId": "5e070135-c391-4ba3-87ee-26fcaeaada7b"
      },
      "execution_count": 75,
      "outputs": [
        {
          "output_type": "stream",
          "name": "stdout",
          "text": [
            "3.141592653589793 % 1.2246467991473532e-16 = 6.065364158746103e-17\n"
          ]
        }
      ]
    },
    {
      "cell_type": "code",
      "source": [
        "c = a ** 2 # a в 3 степени\n",
        "print(a, \"^ 2\", \"=\", c)\n",
        "c = b ** 3 # b в 3 степени\n",
        "print(b, \"^ 3\", \"=\", c)"
      ],
      "metadata": {
        "colab": {
          "base_uri": "https://localhost:8080/",
          "height": 0
        },
        "id": "UV6ui5rQcdvw",
        "outputId": "2046d0e6-67dd-4356-beb5-3337334c20ec"
      },
      "execution_count": 76,
      "outputs": [
        {
          "output_type": "stream",
          "name": "stdout",
          "text": [
            "3.141592653589793 ^ 2 = 9.869604401089358\n",
            "1.2246467991473532e-16 ^ 3 = 1.836676017326774e-48\n"
          ]
        }
      ]
    },
    {
      "cell_type": "code",
      "source": [],
      "metadata": {
        "id": "EPhr1HEodrbP"
      },
      "execution_count": null,
      "outputs": []
    }
  ]
}