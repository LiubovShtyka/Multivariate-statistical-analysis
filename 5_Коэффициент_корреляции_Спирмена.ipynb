{
  "nbformat": 4,
  "nbformat_minor": 0,
  "metadata": {
    "colab": {
      "provenance": []
    },
    "kernelspec": {
      "name": "python3",
      "display_name": "Python 3"
    },
    "language_info": {
      "name": "python"
    }
  },
  "cells": [
    {
      "cell_type": "markdown",
      "source": [
        "# код\n"
      ],
      "metadata": {
        "id": "mi-WSMA7lG92"
      }
    },
    {
      "cell_type": "code",
      "source": [
        "import numpy as np"
      ],
      "metadata": {
        "id": "KebEgNtKe13I"
      },
      "execution_count": null,
      "outputs": []
    },
    {
      "cell_type": "code",
      "execution_count": null,
      "metadata": {
        "id": "aZVjAEJdeR3T"
      },
      "outputs": [],
      "source": [
        "studA = np.array([2, 14, 5, 7, 13, 1, 4, 6, 16, 15, 12, 17, 11, 8, 3, 18, 10, 9])\n",
        "studB = np.array([2, 18, 12, 4, 14, 1, 6, 5, 17, 11, 10, 16, 13, 9, 3, 15, 8, 7])\n",
        "n = int(len(studA))"
      ]
    },
    {
      "cell_type": "code",
      "source": [
        "d = studA - studB # Вычисляем разность рангов\n",
        "d"
      ],
      "metadata": {
        "colab": {
          "base_uri": "https://localhost:8080/"
        },
        "id": "FjO2-JLufejS",
        "outputId": "97074aeb-15f0-450d-9a0d-4780a1fecfb9"
      },
      "execution_count": null,
      "outputs": [
        {
          "output_type": "execute_result",
          "data": {
            "text/plain": [
              "array([ 0, -4, -7,  3, -1,  0, -2,  1, -1,  4,  2,  1, -2, -1,  0,  3,  2,\n",
              "        2])"
            ]
          },
          "metadata": {},
          "execution_count": 11
        }
      ]
    },
    {
      "cell_type": "code",
      "source": [
        "sum_d2 = np.dot(d, d) # Вычисляем квадрат разности рангов и сумму\n",
        "sum_d2"
      ],
      "metadata": {
        "colab": {
          "base_uri": "https://localhost:8080/"
        },
        "id": "gSO1OI6qf9ov",
        "outputId": "38a7724e-1f26-4d8d-cb09-7b90c3b03311"
      },
      "execution_count": null,
      "outputs": [
        {
          "output_type": "execute_result",
          "data": {
            "text/plain": [
              "124"
            ]
          },
          "metadata": {},
          "execution_count": 24
        }
      ]
    },
    {
      "cell_type": "code",
      "source": [
        "Rs = 1 - (6*sum_d2)/(n*(n*n-1))\n",
        "Rкр = 0.47 # n=18, alpha = 0,05\n",
        "print('Rs =', Rs)\n",
        "print('Rкр =', Rкр)"
      ],
      "metadata": {
        "colab": {
          "base_uri": "https://localhost:8080/"
        },
        "id": "1pgGvgESgXIk",
        "outputId": "cebdc6d5-55e7-48bf-e8e9-e67c0a0a2cea"
      },
      "execution_count": null,
      "outputs": [
        {
          "output_type": "stream",
          "name": "stdout",
          "text": [
            "Rs = 0.8720330237358102\n",
            "Rкр = 0.47\n"
          ]
        }
      ]
    },
    {
      "cell_type": "markdown",
      "source": [
        "Н0: корреляция между показателями не отличается от нуля (является случайной).\n",
        "\n",
        "Н1: корреляция между показателями отличается от нуля (является неслучайной)\n"
      ],
      "metadata": {
        "id": "UbSgvLsvhWsX"
      }
    },
    {
      "cell_type": "markdown",
      "source": [
        "Так как Rs > Rкр, принимаем гипотезу Н1\n",
        "\n"
      ],
      "metadata": {
        "id": "HTPmI26Lhz2Y"
      }
    },
    {
      "cell_type": "markdown",
      "source": [
        "# функция"
      ],
      "metadata": {
        "id": "Na3LwRpnlLJ-"
      }
    },
    {
      "cell_type": "code",
      "source": [
        "Rs2 = np.corrcoef(studA, studB)\n",
        "Rs2"
      ],
      "metadata": {
        "colab": {
          "base_uri": "https://localhost:8080/"
        },
        "id": "rPDzfJkrg5yG",
        "outputId": "750a3905-1512-4ac0-a78b-76c2622a302a"
      },
      "execution_count": null,
      "outputs": [
        {
          "output_type": "execute_result",
          "data": {
            "text/plain": [
              "array([[1.        , 0.87203302],\n",
              "       [0.87203302, 1.        ]])"
            ]
          },
          "metadata": {},
          "execution_count": 29
        }
      ]
    },
    {
      "cell_type": "code",
      "source": [
        "from scipy.stats import spearmanr\n",
        "rho = spearmanr(studA, studB)\n",
        "print(rho)\n"
      ],
      "metadata": {
        "colab": {
          "base_uri": "https://localhost:8080/"
        },
        "id": "r1juZkx2i-PM",
        "outputId": "d3a5ac77-44ba-4a36-ad0f-395c1a56cec3"
      },
      "execution_count": null,
      "outputs": [
        {
          "output_type": "stream",
          "name": "stdout",
          "text": [
            "SpearmanrResult(correlation=0.87203302373581, pvalue=2.4017641453772196e-06)\n"
          ]
        }
      ]
    },
    {
      "cell_type": "markdown",
      "source": [
        "p < 0,05 (alpha), поэтому принимаем гипотезу Н1"
      ],
      "metadata": {
        "id": "QW9R2GfZki11"
      }
    }
  ]
}