{
  "nbformat": 4,
  "nbformat_minor": 0,
  "metadata": {
    "colab": {
      "provenance": [],
      "collapsed_sections": [
        "P-eMD0E2lz4j",
        "CgwZpRBFl7Ev",
        "6SnhtLhooGF2"
      ]
    },
    "kernelspec": {
      "name": "python3",
      "display_name": "Python 3"
    },
    "language_info": {
      "name": "python"
    }
  },
  "cells": [
    {
      "cell_type": "code",
      "execution_count": null,
      "metadata": {
        "id": "iqrEm7UXkBd8"
      },
      "outputs": [],
      "source": [
        "import numpy as np"
      ]
    },
    {
      "cell_type": "markdown",
      "source": [
        "# Массив целых чисел\n"
      ],
      "metadata": {
        "id": "P-eMD0E2lz4j"
      }
    },
    {
      "cell_type": "code",
      "source": [
        "mas1 = np.array([13, 15, 11, 18, 20])\n",
        "mas2 = np.array([24, 10, 6, 35, 9])"
      ],
      "metadata": {
        "id": "rBmNxNBdkjDL"
      },
      "execution_count": null,
      "outputs": []
    },
    {
      "cell_type": "code",
      "source": [
        "mas1 + mas2"
      ],
      "metadata": {
        "colab": {
          "base_uri": "https://localhost:8080/"
        },
        "id": "5wA7ia1XlDQp",
        "outputId": "13a1a00e-88a7-4eae-bbf5-7bea6ea9c093"
      },
      "execution_count": null,
      "outputs": [
        {
          "output_type": "execute_result",
          "data": {
            "text/plain": [
              "array([37, 25, 17, 53, 29])"
            ]
          },
          "metadata": {},
          "execution_count": 3
        }
      ]
    },
    {
      "cell_type": "code",
      "source": [
        "mas1 - mas2"
      ],
      "metadata": {
        "colab": {
          "base_uri": "https://localhost:8080/"
        },
        "id": "h3zQ2IHalLOi",
        "outputId": "516e7b0b-86de-48be-b534-af6f5386348e"
      },
      "execution_count": null,
      "outputs": [
        {
          "output_type": "execute_result",
          "data": {
            "text/plain": [
              "array([-11,   5,   5, -17,  11])"
            ]
          },
          "metadata": {},
          "execution_count": 4
        }
      ]
    },
    {
      "cell_type": "code",
      "source": [
        "mas1 * 3, mas2 * 4"
      ],
      "metadata": {
        "colab": {
          "base_uri": "https://localhost:8080/"
        },
        "id": "nDtYoBsylOBq",
        "outputId": "6a21c0bd-ed4a-4d0c-d75d-11ccc7dc5af9"
      },
      "execution_count": null,
      "outputs": [
        {
          "output_type": "execute_result",
          "data": {
            "text/plain": [
              "(array([39, 45, 33, 54, 60]), array([ 96,  40,  24, 140,  36]))"
            ]
          },
          "metadata": {},
          "execution_count": 12
        }
      ]
    },
    {
      "cell_type": "code",
      "source": [
        "mas1 / mas2"
      ],
      "metadata": {
        "colab": {
          "base_uri": "https://localhost:8080/"
        },
        "id": "wVKOaLd_lQUq",
        "outputId": "afc5e2af-4527-40d0-a60d-e6a918c44a71"
      },
      "execution_count": null,
      "outputs": [
        {
          "output_type": "execute_result",
          "data": {
            "text/plain": [
              "array([0.54166667, 1.5       , 1.83333333, 0.51428571, 2.22222222])"
            ]
          },
          "metadata": {},
          "execution_count": 6
        }
      ]
    },
    {
      "cell_type": "code",
      "source": [
        "mas1 // mas2"
      ],
      "metadata": {
        "colab": {
          "base_uri": "https://localhost:8080/"
        },
        "id": "89lD3YSblTNq",
        "outputId": "c993805e-4146-4819-c1d2-dcad64981401"
      },
      "execution_count": null,
      "outputs": [
        {
          "output_type": "execute_result",
          "data": {
            "text/plain": [
              "array([0, 1, 1, 0, 2])"
            ]
          },
          "metadata": {},
          "execution_count": 7
        }
      ]
    },
    {
      "cell_type": "code",
      "source": [
        "mas1 % mas2"
      ],
      "metadata": {
        "colab": {
          "base_uri": "https://localhost:8080/"
        },
        "id": "pNMSnqvtlVkq",
        "outputId": "d64a776e-4196-4511-9fb7-0ee4d415e79b"
      },
      "execution_count": null,
      "outputs": [
        {
          "output_type": "execute_result",
          "data": {
            "text/plain": [
              "array([13,  5,  5, 18,  2])"
            ]
          },
          "metadata": {},
          "execution_count": 8
        }
      ]
    },
    {
      "cell_type": "code",
      "source": [
        "mas1 ** 2\n",
        "mas2 ** 0.5"
      ],
      "metadata": {
        "colab": {
          "base_uri": "https://localhost:8080/"
        },
        "id": "2nN0tk2klYop",
        "outputId": "50af33e0-f1a2-4777-823c-b864577145bd"
      },
      "execution_count": null,
      "outputs": [
        {
          "output_type": "execute_result",
          "data": {
            "text/plain": [
              "array([4.89897949, 3.16227766, 2.44948974, 5.91607978, 3.        ])"
            ]
          },
          "metadata": {},
          "execution_count": 9
        }
      ]
    },
    {
      "cell_type": "markdown",
      "source": [
        "# Массив строк"
      ],
      "metadata": {
        "id": "CgwZpRBFl7Ev"
      }
    },
    {
      "cell_type": "code",
      "source": [
        "mas1 = np.array(['Hello', 'Goodbay'], dtype = object)\n",
        "mas2 = np.array(['Have a nice day!', 'Good morning'], dtype = object)"
      ],
      "metadata": {
        "id": "eeamZVg_l98E"
      },
      "execution_count": null,
      "outputs": []
    },
    {
      "cell_type": "code",
      "source": [
        "mas1 + mas2"
      ],
      "metadata": {
        "colab": {
          "base_uri": "https://localhost:8080/"
        },
        "id": "Aiye6VHGo-E9",
        "outputId": "9a054444-1be6-4901-c215-df0a62b5924b"
      },
      "execution_count": null,
      "outputs": [
        {
          "output_type": "execute_result",
          "data": {
            "text/plain": [
              "array(['HelloHave a nice day!', 'GoodbayGood morning'], dtype=object)"
            ]
          },
          "metadata": {},
          "execution_count": 33
        }
      ]
    },
    {
      "cell_type": "code",
      "source": [
        "mas1 * 2, mas2 * 3"
      ],
      "metadata": {
        "colab": {
          "base_uri": "https://localhost:8080/"
        },
        "id": "l6PV1SIOpOBc",
        "outputId": "49173858-b98e-493c-aff8-83a14d91dffa"
      },
      "execution_count": null,
      "outputs": [
        {
          "output_type": "execute_result",
          "data": {
            "text/plain": [
              "(array(['HelloHello', 'GoodbayGoodbay'], dtype=object),\n",
              " array(['Have a nice day!Have a nice day!Have a nice day!',\n",
              "        'Good morningGood morningGood morning'], dtype=object))"
            ]
          },
          "metadata": {},
          "execution_count": 36
        }
      ]
    },
    {
      "cell_type": "markdown",
      "source": [
        "# Массив комплексных чисел"
      ],
      "metadata": {
        "id": "6SnhtLhooGF2"
      }
    },
    {
      "cell_type": "code",
      "source": [
        "mas1 = np.array([5+2J, 1+3J])\n",
        "mas2 = np.array([7+1J, 8+2J])"
      ],
      "metadata": {
        "id": "pT4doNdVoKtd"
      },
      "execution_count": null,
      "outputs": []
    },
    {
      "cell_type": "code",
      "source": [
        "mas1 + mas2"
      ],
      "metadata": {
        "colab": {
          "base_uri": "https://localhost:8080/"
        },
        "id": "Z0CAojtSoamS",
        "outputId": "4ff8cefe-0929-4a06-fd42-153d6a075dbe"
      },
      "execution_count": null,
      "outputs": [
        {
          "output_type": "execute_result",
          "data": {
            "text/plain": [
              "array([12.+3.j,  9.+5.j])"
            ]
          },
          "metadata": {},
          "execution_count": 22
        }
      ]
    },
    {
      "cell_type": "code",
      "source": [
        "mas1 - mas2"
      ],
      "metadata": {
        "colab": {
          "base_uri": "https://localhost:8080/"
        },
        "id": "tnVGCSokoeXp",
        "outputId": "d0b52c4b-5b4f-4747-cc89-39016b36c855"
      },
      "execution_count": null,
      "outputs": [
        {
          "output_type": "execute_result",
          "data": {
            "text/plain": [
              "array([-2.+1.j, -7.+1.j])"
            ]
          },
          "metadata": {},
          "execution_count": 23
        }
      ]
    },
    {
      "cell_type": "code",
      "source": [
        "mas1 * 2\n",
        "mas2 * 3"
      ],
      "metadata": {
        "colab": {
          "base_uri": "https://localhost:8080/"
        },
        "id": "kzKiYxKQofv5",
        "outputId": "14d2d5c8-6336-4b3b-ac1a-2211ccbf1a74"
      },
      "execution_count": null,
      "outputs": [
        {
          "output_type": "execute_result",
          "data": {
            "text/plain": [
              "array([21.+3.j, 24.+6.j])"
            ]
          },
          "metadata": {},
          "execution_count": 24
        }
      ]
    },
    {
      "cell_type": "code",
      "source": [
        "mas2 ** 2"
      ],
      "metadata": {
        "colab": {
          "base_uri": "https://localhost:8080/"
        },
        "id": "ImxU1XmOohvp",
        "outputId": "cc39964e-db4a-48b6-88f7-77a971407d5f"
      },
      "execution_count": null,
      "outputs": [
        {
          "output_type": "execute_result",
          "data": {
            "text/plain": [
              "array([48.+14.j, 60.+32.j])"
            ]
          },
          "metadata": {},
          "execution_count": 25
        }
      ]
    },
    {
      "cell_type": "code",
      "source": [
        "mas1 / mas2"
      ],
      "metadata": {
        "colab": {
          "base_uri": "https://localhost:8080/"
        },
        "id": "OkovEk92okK5",
        "outputId": "7f9a583b-b29e-4e21-aa20-2f0b0c37458d"
      },
      "execution_count": null,
      "outputs": [
        {
          "output_type": "execute_result",
          "data": {
            "text/plain": [
              "array([0.74      +0.18j      , 0.20588235+0.32352941j])"
            ]
          },
          "metadata": {},
          "execution_count": 27
        }
      ]
    },
    {
      "cell_type": "code",
      "source": [
        "mas1 // mas2"
      ],
      "metadata": {
        "colab": {
          "base_uri": "https://localhost:8080/"
        },
        "id": "gWWrHWt0omp4",
        "outputId": "4183b479-ee6d-4e16-d5e5-ab09cec86f50"
      },
      "execution_count": null,
      "outputs": [
        {
          "output_type": "execute_result",
          "data": {
            "text/plain": [
              "array([0.+0.j, 0.+0.j])"
            ]
          },
          "metadata": {},
          "execution_count": 28
        }
      ]
    },
    {
      "cell_type": "markdown",
      "source": [
        "Остаток от деления не извлекается"
      ],
      "metadata": {
        "id": "doj9v8cfotTr"
      }
    },
    {
      "cell_type": "code",
      "source": [],
      "metadata": {
        "id": "qTzBrv0lpaPN"
      },
      "execution_count": null,
      "outputs": []
    },
    {
      "cell_type": "markdown",
      "source": [
        "# 4 пункт"
      ],
      "metadata": {
        "id": "TTBvnSRfpdj9"
      }
    },
    {
      "cell_type": "code",
      "source": [
        "mas0 = np.zeros(6)\n",
        "mas0"
      ],
      "metadata": {
        "colab": {
          "base_uri": "https://localhost:8080/"
        },
        "id": "xBwhZFOFpf27",
        "outputId": "b7db311a-ec21-4ea2-911a-7071ad590042"
      },
      "execution_count": null,
      "outputs": [
        {
          "output_type": "execute_result",
          "data": {
            "text/plain": [
              "array([0., 0., 0., 0., 0., 0.])"
            ]
          },
          "metadata": {},
          "execution_count": 38
        }
      ]
    },
    {
      "cell_type": "code",
      "source": [
        "mas1 = np.ones(20)\n",
        "mas1"
      ],
      "metadata": {
        "colab": {
          "base_uri": "https://localhost:8080/"
        },
        "id": "q4GDaGJKpoYh",
        "outputId": "2f6442f0-f5af-4d90-abd9-5fbb228f3914"
      },
      "execution_count": null,
      "outputs": [
        {
          "output_type": "execute_result",
          "data": {
            "text/plain": [
              "array([1., 1., 1., 1., 1., 1., 1., 1., 1., 1., 1., 1., 1., 1., 1., 1., 1.,\n",
              "       1., 1., 1.])"
            ]
          },
          "metadata": {},
          "execution_count": 39
        }
      ]
    },
    {
      "cell_type": "code",
      "source": [
        "mas1[2]"
      ],
      "metadata": {
        "colab": {
          "base_uri": "https://localhost:8080/"
        },
        "id": "yIkF3QuDp1BQ",
        "outputId": "7bc993b1-b077-431f-9299-a2c64b5f2888"
      },
      "execution_count": null,
      "outputs": [
        {
          "output_type": "execute_result",
          "data": {
            "text/plain": [
              "1.0"
            ]
          },
          "metadata": {},
          "execution_count": 40
        }
      ]
    },
    {
      "cell_type": "code",
      "source": [
        "mas0[-1]"
      ],
      "metadata": {
        "colab": {
          "base_uri": "https://localhost:8080/"
        },
        "id": "mQDeAeY-p5Jx",
        "outputId": "7f16d6df-616d-4826-96ae-33794cba7714"
      },
      "execution_count": null,
      "outputs": [
        {
          "output_type": "execute_result",
          "data": {
            "text/plain": [
              "0.0"
            ]
          },
          "metadata": {},
          "execution_count": 41
        }
      ]
    },
    {
      "cell_type": "code",
      "source": [
        "import random\n",
        "A = [-3, 1, 5, 6 -8, -2, 5, 1, -7, 8]\n",
        "A.reverse()\n",
        "A"
      ],
      "metadata": {
        "id": "w84xYtKDp6-y",
        "colab": {
          "base_uri": "https://localhost:8080/"
        },
        "outputId": "83dd9f71-ca7b-4291-8455-adbca94b6bac"
      },
      "execution_count": null,
      "outputs": [
        {
          "output_type": "execute_result",
          "data": {
            "text/plain": [
              "[8, -7, 1, 5, -2, -2, 5, 1, -3]"
            ]
          },
          "metadata": {},
          "execution_count": 11
        }
      ]
    },
    {
      "cell_type": "code",
      "source": [
        "sum = 0\n",
        "for i in range(9):\n",
        "  if A[i] > 0:\n",
        "    sum += A[i]\n",
        "\n",
        "sum"
      ],
      "metadata": {
        "colab": {
          "base_uri": "https://localhost:8080/"
        },
        "id": "EHJVkLRB5EUW",
        "outputId": "dcfe06ec-e40f-4c45-81a1-2cba4948eadf"
      },
      "execution_count": null,
      "outputs": [
        {
          "output_type": "execute_result",
          "data": {
            "text/plain": [
              "20"
            ]
          },
          "metadata": {},
          "execution_count": 18
        }
      ]
    },
    {
      "cell_type": "code",
      "source": [
        "B = ['Январь', 'Февраль', 'Март', 'Апрель','Май']\n",
        "B[2], B[3], B[4]"
      ],
      "metadata": {
        "colab": {
          "base_uri": "https://localhost:8080/"
        },
        "id": "jNYo6c-s6KHt",
        "outputId": "fe59209a-0d13-4df0-a7b5-9386a809513f"
      },
      "execution_count": null,
      "outputs": [
        {
          "output_type": "execute_result",
          "data": {
            "text/plain": [
              "('Март', 'Апрель', 'Май')"
            ]
          },
          "metadata": {},
          "execution_count": 19
        }
      ]
    },
    {
      "cell_type": "code",
      "source": [],
      "metadata": {
        "id": "vsnobKmP7LrT"
      },
      "execution_count": null,
      "outputs": []
    }
  ]
}