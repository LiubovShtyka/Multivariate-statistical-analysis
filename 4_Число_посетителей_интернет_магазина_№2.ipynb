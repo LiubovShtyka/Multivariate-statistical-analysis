{
  "nbformat": 4,
  "nbformat_minor": 0,
  "metadata": {
    "colab": {
      "provenance": []
    },
    "kernelspec": {
      "name": "python3",
      "display_name": "Python 3"
    },
    "language_info": {
      "name": "python"
    }
  },
  "cells": [
    {
      "cell_type": "code",
      "execution_count": 69,
      "metadata": {
        "id": "oFrewCLOWycj"
      },
      "outputs": [],
      "source": [
        "import numpy as np\n",
        "from numpy import random"
      ]
    },
    {
      "cell_type": "code",
      "source": [
        "n = 30\n",
        "matrix = np.zeros((n, 2))\n",
        "matrix[:,0] = buyers = np.floor(random.normal(1000, 100, n))\n",
        "matrix[:,1] = buyers//100 + random.randint(-20, 20, 1)"
      ],
      "metadata": {
        "id": "pQkLReCVXFGN"
      },
      "execution_count": 80,
      "outputs": []
    },
    {
      "cell_type": "code",
      "source": [
        "# 1способ\n",
        "matrix[(matrix < 0)] = 0\n",
        "matrix"
      ],
      "metadata": {
        "colab": {
          "base_uri": "https://localhost:8080/"
        },
        "id": "JW_kLHCnYAYd",
        "outputId": "8c07ef0a-abf9-4de0-ab95-92c8ee57c603"
      },
      "execution_count": 81,
      "outputs": [
        {
          "output_type": "execute_result",
          "data": {
            "text/plain": [
              "array([[ 951.,   24.],\n",
              "       [1131.,   26.],\n",
              "       [ 957.,   24.],\n",
              "       [1056.,   25.],\n",
              "       [ 916.,   24.],\n",
              "       [ 944.,   24.],\n",
              "       [1058.,   25.],\n",
              "       [ 909.,   24.],\n",
              "       [ 948.,   24.],\n",
              "       [1061.,   25.],\n",
              "       [ 981.,   24.],\n",
              "       [1217.,   27.],\n",
              "       [1032.,   25.],\n",
              "       [ 875.,   23.],\n",
              "       [ 870.,   23.],\n",
              "       [ 859.,   23.],\n",
              "       [1083.,   25.],\n",
              "       [ 874.,   23.],\n",
              "       [1022.,   25.],\n",
              "       [1046.,   25.],\n",
              "       [1145.,   26.],\n",
              "       [1038.,   25.],\n",
              "       [1004.,   25.],\n",
              "       [1070.,   25.],\n",
              "       [1125.,   26.],\n",
              "       [1159.,   26.],\n",
              "       [ 888.,   23.],\n",
              "       [ 961.,   24.],\n",
              "       [1058.,   25.],\n",
              "       [1036.,   25.]])"
            ]
          },
          "metadata": {},
          "execution_count": 81
        }
      ]
    },
    {
      "cell_type": "code",
      "source": [
        "# 2способ\n",
        "for element in range (len(matrix)):\n",
        "  if element < 0:\n",
        "    element = 0\n",
        "matrix"
      ],
      "metadata": {
        "colab": {
          "base_uri": "https://localhost:8080/"
        },
        "id": "0LE380SW6kDv",
        "outputId": "a72a046c-c1d8-43ee-e9cf-2f95f02fc573"
      },
      "execution_count": 82,
      "outputs": [
        {
          "output_type": "execute_result",
          "data": {
            "text/plain": [
              "array([[ 951.,   24.],\n",
              "       [1131.,   26.],\n",
              "       [ 957.,   24.],\n",
              "       [1056.,   25.],\n",
              "       [ 916.,   24.],\n",
              "       [ 944.,   24.],\n",
              "       [1058.,   25.],\n",
              "       [ 909.,   24.],\n",
              "       [ 948.,   24.],\n",
              "       [1061.,   25.],\n",
              "       [ 981.,   24.],\n",
              "       [1217.,   27.],\n",
              "       [1032.,   25.],\n",
              "       [ 875.,   23.],\n",
              "       [ 870.,   23.],\n",
              "       [ 859.,   23.],\n",
              "       [1083.,   25.],\n",
              "       [ 874.,   23.],\n",
              "       [1022.,   25.],\n",
              "       [1046.,   25.],\n",
              "       [1145.,   26.],\n",
              "       [1038.,   25.],\n",
              "       [1004.,   25.],\n",
              "       [1070.,   25.],\n",
              "       [1125.,   26.],\n",
              "       [1159.,   26.],\n",
              "       [ 888.,   23.],\n",
              "       [ 961.,   24.],\n",
              "       [1058.,   25.],\n",
              "       [1036.,   25.]])"
            ]
          },
          "metadata": {},
          "execution_count": 82
        }
      ]
    },
    {
      "cell_type": "code",
      "source": [
        "# Округлить до целых чисел\n",
        "matrix = np.floor(matrix)\n",
        "matrix"
      ],
      "metadata": {
        "colab": {
          "base_uri": "https://localhost:8080/"
        },
        "id": "nuVEGPn6Y4aS",
        "outputId": "a2a040c9-3cfc-44e9-808a-ff355105df0c"
      },
      "execution_count": 83,
      "outputs": [
        {
          "output_type": "execute_result",
          "data": {
            "text/plain": [
              "array([[ 951.,   24.],\n",
              "       [1131.,   26.],\n",
              "       [ 957.,   24.],\n",
              "       [1056.,   25.],\n",
              "       [ 916.,   24.],\n",
              "       [ 944.,   24.],\n",
              "       [1058.,   25.],\n",
              "       [ 909.,   24.],\n",
              "       [ 948.,   24.],\n",
              "       [1061.,   25.],\n",
              "       [ 981.,   24.],\n",
              "       [1217.,   27.],\n",
              "       [1032.,   25.],\n",
              "       [ 875.,   23.],\n",
              "       [ 870.,   23.],\n",
              "       [ 859.,   23.],\n",
              "       [1083.,   25.],\n",
              "       [ 874.,   23.],\n",
              "       [1022.,   25.],\n",
              "       [1046.,   25.],\n",
              "       [1145.,   26.],\n",
              "       [1038.,   25.],\n",
              "       [1004.,   25.],\n",
              "       [1070.,   25.],\n",
              "       [1125.,   26.],\n",
              "       [1159.,   26.],\n",
              "       [ 888.,   23.],\n",
              "       [ 961.,   24.],\n",
              "       [1058.,   25.],\n",
              "       [1036.,   25.]])"
            ]
          },
          "metadata": {},
          "execution_count": 83
        }
      ]
    },
    {
      "cell_type": "code",
      "source": [
        "# Максимальное и минимальное значение\n",
        "print('Максимальное значение среди покупателей', max(matrix[:, 0]))\n",
        "print('Минимальное значение среди покупателей', min(matrix[:, 0]))"
      ],
      "metadata": {
        "colab": {
          "base_uri": "https://localhost:8080/"
        },
        "id": "5kcuczuM8OFK",
        "outputId": "d2506b45-d97f-4a58-806c-cc1809afd725"
      },
      "execution_count": 84,
      "outputs": [
        {
          "output_type": "stream",
          "name": "stdout",
          "text": [
            "Максимальное значение среди покупателей 1217.0\n",
            "Минимальное значение среди покупателей 859.0\n"
          ]
        }
      ]
    },
    {
      "cell_type": "code",
      "source": [
        "# Максимальное и минимальное значение\n",
        "print('Максимальное значение покупок', max(matrix[:, 1]))\n",
        "print('Минимальное значение покупок', min(matrix[:, 1]))"
      ],
      "metadata": {
        "colab": {
          "base_uri": "https://localhost:8080/"
        },
        "id": "fm_zIT4L83Lk",
        "outputId": "ff9dff46-27b8-420b-aec8-d36c18ffe117"
      },
      "execution_count": 85,
      "outputs": [
        {
          "output_type": "stream",
          "name": "stdout",
          "text": [
            "Максимальное значение покупок 27.0\n",
            "Минимальное значение покупок 23.0\n"
          ]
        }
      ]
    },
    {
      "cell_type": "code",
      "source": [
        "# Среднее, медиана, дисперсия, СКО для покупателей\n",
        "print('Для количества посетителей:')\n",
        "print('среднее =', np.mean(matrix[:, 0]))\n",
        "print('медиана =', np.median(matrix[:, 0]))\n",
        "print('дисперсия =', np.var(matrix[:, 0]))\n",
        "print('стандартное отклонение =', np.std(matrix[:, 0]))"
      ],
      "metadata": {
        "colab": {
          "base_uri": "https://localhost:8080/"
        },
        "id": "lCUc_sev9Dds",
        "outputId": "70ce1d5c-6f10-4e6e-ce38-b0c4f929657a"
      },
      "execution_count": 86,
      "outputs": [
        {
          "output_type": "stream",
          "name": "stdout",
          "text": [
            "Для количества посетителей:\n",
            "среднее = 1009.1333333333333\n",
            "медиана = 1027.0\n",
            "дисперсия = 8785.582222222223\n",
            "стандартное отклонение = 93.73143668066879\n"
          ]
        }
      ]
    },
    {
      "cell_type": "code",
      "source": [
        "# Среднее, медиана, дисперсия, СКО для покупок\n",
        "print('\\nДля числа покупок:')\n",
        "print('среднее =', np.mean(matrix[:, 1]))\n",
        "print('медиана =', np.median(matrix[:, 1]))\n",
        "print('дисперсия =', np.var(matrix[:, 1]))\n",
        "print('стандартное отклонение =', np.std(matrix[:, 1]))"
      ],
      "metadata": {
        "colab": {
          "base_uri": "https://localhost:8080/"
        },
        "id": "bdAXVcDu9s0R",
        "outputId": "b2a04934-cd2b-4d7c-9066-ad5939d19974"
      },
      "execution_count": 87,
      "outputs": [
        {
          "output_type": "stream",
          "name": "stdout",
          "text": [
            "\n",
            "Для числа покупок:\n",
            "среднее = 24.6\n",
            "медиана = 25.0\n",
            "дисперсия = 1.0400000000000003\n",
            "стандартное отклонение = 1.019803902718557\n"
          ]
        }
      ]
    },
    {
      "cell_type": "code",
      "source": [
        "# Добавить столбец\n",
        "add = matrix[:, 1] * 100 // matrix[:, 0]\n",
        "np.append(matrix, add)"
      ],
      "metadata": {
        "colab": {
          "base_uri": "https://localhost:8080/"
        },
        "id": "MxXo3MMN9x6N",
        "outputId": "b16b722a-053d-4404-dab1-529c609a45fc"
      },
      "execution_count": 116,
      "outputs": [
        {
          "output_type": "execute_result",
          "data": {
            "text/plain": [
              "array([ 951.,   24., 1131.,   26.,  957.,   24., 1056.,   25.,  916.,\n",
              "         24.,  944.,   24., 1058.,   25.,  909.,   24.,  948.,   24.,\n",
              "       1061.,   25.,  981.,   24., 1217.,   27., 1032.,   25.,  875.,\n",
              "         23.,  870.,   23.,  859.,   23., 1083.,   25.,  874.,   23.,\n",
              "       1022.,   25., 1046.,   25., 1145.,   26., 1038.,   25., 1004.,\n",
              "         25., 1070.,   25., 1125.,   26., 1159.,   26.,  888.,   23.,\n",
              "        961.,   24., 1058.,   25., 1036.,   25.,    2.,    2.,    2.,\n",
              "          2.,    2.,    2.,    2.,    2.,    2.,    2.,    2.,    2.,\n",
              "          2.,    2.,    2.,    2.,    2.,    2.,    2.,    2.,    2.,\n",
              "          2.,    2.,    2.,    2.,    2.,    2.,    2.,    2.,    2.])"
            ]
          },
          "metadata": {},
          "execution_count": 116
        }
      ]
    },
    {
      "cell_type": "code",
      "source": [
        "print('Корреляционная матрица:')\n",
        "R=np.corrcoef(matrix,rowvar=False)\n",
        "print(R)\n",
        "print('\\nКоэффициент корреляции:')\n",
        "print(R[0, 1])"
      ],
      "metadata": {
        "colab": {
          "base_uri": "https://localhost:8080/"
        },
        "id": "A9fIZH6G-YbX",
        "outputId": "a2c61cfd-caa0-40e8-ddb0-a00dcc88fce9"
      },
      "execution_count": 108,
      "outputs": [
        {
          "output_type": "stream",
          "name": "stdout",
          "text": [
            "Корреляционная матрица:\n",
            "[[1.    0.978]\n",
            " [0.978 1.   ]]\n",
            "\n",
            "Коэффициент корреляции:\n",
            "0.9780199900317771\n"
          ]
        }
      ]
    },
    {
      "cell_type": "code",
      "source": [
        "print('Показатели за 5 дней:')\n",
        "print('\\nПокупатели', matrix[:5, 0])\n",
        "print('Покупки', matrix[:5, 1])"
      ],
      "metadata": {
        "colab": {
          "base_uri": "https://localhost:8080/"
        },
        "id": "VxUW_KsdiHf4",
        "outputId": "6f06f459-0c28-4fa4-d1b1-75eac4d2d827"
      },
      "execution_count": 110,
      "outputs": [
        {
          "output_type": "stream",
          "name": "stdout",
          "text": [
            "Показатели за 5 дней:\n",
            "\n",
            "Покупатели [ 951. 1131.  957. 1056.  916.]\n",
            "Покупки [24. 26. 24. 25. 24.]\n"
          ]
        }
      ]
    },
    {
      "cell_type": "code",
      "source": [
        "# 1способ\n",
        "half = len(buyers)//2+1\n",
        "print('посетителей в первой половине месяца было', np.sum(matrix[:half, 0]))\n",
        "print('посетителей во второй половине месяца было', np.sum(matrix[half:, 0]))"
      ],
      "metadata": {
        "colab": {
          "base_uri": "https://localhost:8080/"
        },
        "id": "m9tLzpeJn03z",
        "outputId": "55f6ff72-32a5-40c9-adee-1ba1a9e95f21"
      },
      "execution_count": 114,
      "outputs": [
        {
          "output_type": "stream",
          "name": "stdout",
          "text": [
            "посетителей в первой половине месяца было 15765.0\n",
            "посетителей во второй половине месяца было 14509.0\n"
          ]
        }
      ]
    },
    {
      "cell_type": "markdown",
      "source": [
        "В первой половине месяца посетителей было больше"
      ],
      "metadata": {
        "id": "c1TRBcHVpdH_"
      }
    },
    {
      "cell_type": "code",
      "source": [
        "for i in range (len(matrix[:, 0])):\n",
        "  if (i == 5) | (i == 12) | (i == 19) | (i == 26):\n",
        "    print ('Посетителей в субботу было', matrix[i, 0])\n",
        "print('\\n')\n",
        "for i in range (len(matrix[:, 1])):\n",
        "  if (i == 5) | (i == 12) | (i == 19) | (i == 26):\n",
        "    print ('Покупок в субботу было', matrix[i, 1])"
      ],
      "metadata": {
        "colab": {
          "base_uri": "https://localhost:8080/"
        },
        "id": "1zWUFHHMpQRu",
        "outputId": "d93fd192-f67d-432c-b25e-027e96d45d99"
      },
      "execution_count": 128,
      "outputs": [
        {
          "output_type": "stream",
          "name": "stdout",
          "text": [
            "Посетителей в субботу было 944.0\n",
            "Посетителей в субботу было 1032.0\n",
            "Посетителей в субботу было 1046.0\n",
            "Посетителей в субботу было 888.0\n",
            "\n",
            "\n",
            "Покупок в субботу было 24.0\n",
            "Покупок в субботу было 25.0\n",
            "Покупок в субботу было 25.0\n",
            "Покупок в субботу было 23.0\n"
          ]
        }
      ]
    },
    {
      "cell_type": "code",
      "source": [],
      "metadata": {
        "id": "3vlFnWlgvWyx"
      },
      "execution_count": null,
      "outputs": []
    }
  ]
}