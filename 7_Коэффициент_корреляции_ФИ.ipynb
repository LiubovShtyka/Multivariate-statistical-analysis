{
  "nbformat": 4,
  "nbformat_minor": 0,
  "metadata": {
    "colab": {
      "provenance": [],
      "collapsed_sections": []
    },
    "kernelspec": {
      "name": "python3",
      "display_name": "Python 3"
    },
    "language_info": {
      "name": "python"
    }
  },
  "cells": [
    {
      "cell_type": "code",
      "source": [
        "import numpy as np"
      ],
      "metadata": {
        "id": "nJny-WPdw6ke"
      },
      "execution_count": null,
      "outputs": []
    },
    {
      "cell_type": "code",
      "execution_count": null,
      "metadata": {
        "id": "G6s2jx2Kv6XB"
      },
      "outputs": [],
      "source": [
        "country_house = np.array([0, 1, 1, 0, 0, 1, 0, 1, 0, 0, 1, 0, 1, 0, 1, 1, 0, 1, 1, 1, 0, 0, 1, 0, 0, 0, 1, 0, 1])\n",
        "car = np.array([0, 1, 0, 1, 1, 1, 1, 0, 0, 1, 1, 0, 0, 0, 1, 0, 0, 1, 1, 1, 1, 1, 0, 0, 0, 0, 1, 0, 0])\n",
        "n = len(car)"
      ]
    },
    {
      "cell_type": "code",
      "source": [
        "count1 = 0\n",
        "for i in range(n):\n",
        "  if country_house[i] == 1:\n",
        "    count1 += 1\n",
        "\n",
        "Px = count1/n\n",
        "print('Px =', Px)"
      ],
      "metadata": {
        "colab": {
          "base_uri": "https://localhost:8080/"
        },
        "id": "zwUNCdBtwefC",
        "outputId": "d9f7dbc3-46a9-4141-e9cd-45d7fad2296a"
      },
      "execution_count": null,
      "outputs": [
        {
          "output_type": "stream",
          "name": "stdout",
          "text": [
            "Px = 0.4827586206896552\n"
          ]
        }
      ]
    },
    {
      "cell_type": "code",
      "source": [
        "count2 = 0\n",
        "for i in range(n):\n",
        "  if car[i] == 1:\n",
        "    count2 += 1\n",
        "\n",
        "Py = count2/n\n",
        "print('Py =', Py)"
      ],
      "metadata": {
        "colab": {
          "base_uri": "https://localhost:8080/"
        },
        "id": "pzQ52Ct-w4Tf",
        "outputId": "6dd7717a-2ba4-4afd-8c09-2bb0f3ad6fb9"
      },
      "execution_count": null,
      "outputs": [
        {
          "output_type": "stream",
          "name": "stdout",
          "text": [
            "Py = 0.4827586206896552\n"
          ]
        }
      ]
    },
    {
      "cell_type": "code",
      "source": [
        "count3 = 0\n",
        "for i in range(n):\n",
        "  if car[i] == 1 and country_house[i] == 1:\n",
        "    count3 += 1\n",
        "\n",
        "Pxy = count3/n\n",
        "print('Pxy =', Pxy)"
      ],
      "metadata": {
        "colab": {
          "base_uri": "https://localhost:8080/"
        },
        "id": "Sys1fxMHyPbf",
        "outputId": "61a5c3e3-6b82-463c-92b6-47e676a287e2"
      },
      "execution_count": null,
      "outputs": [
        {
          "output_type": "stream",
          "name": "stdout",
          "text": [
            "Pxy = 0.27586206896551724\n"
          ]
        }
      ]
    },
    {
      "cell_type": "code",
      "source": [
        "phi = (Pxy-Px*Py)/(Px*(1-Px)*Py*(1-Py))**(0.5)\n",
        "print('phi =', phi)"
      ],
      "metadata": {
        "colab": {
          "base_uri": "https://localhost:8080/"
        },
        "id": "rCo1_G0g5vsZ",
        "outputId": "13c07748-4b03-4478-e6e9-1a5464b7c858"
      },
      "execution_count": null,
      "outputs": [
        {
          "output_type": "stream",
          "name": "stdout",
          "text": [
            "phi = 0.1714285714285713\n"
          ]
        }
      ]
    },
    {
      "cell_type": "code",
      "source": [
        "Tphi = abs(phi)*((n-2)/(1-phi**2))**0.5\n",
        "Tкрит = 2.056\n",
        "print('Tphi =', Tphi)\n",
        "print('Tкрит(27, 0.05) =', 2.056)"
      ],
      "metadata": {
        "colab": {
          "base_uri": "https://localhost:8080/"
        },
        "id": "XnhxQVAp6Jao",
        "outputId": "f908989b-7e50-420d-96eb-42f6b9358926"
      },
      "execution_count": null,
      "outputs": [
        {
          "output_type": "stream",
          "name": "stdout",
          "text": [
            "Tphi = 0.9041535777611566\n",
            "Tкрит(27, 0.05) = 2.056\n"
          ]
        }
      ]
    },
    {
      "cell_type": "code",
      "source": [
        "if (Tphi < Tкрит):\n",
        "  print('Не обнаружено связи между наличием/отсутствием дачи и наличием/отсутствием автомашины')\n",
        "else:\n",
        "  print('Между наличием/отсутствием дачи и наличием/отсутствием автомашины связь обнаружена')"
      ],
      "metadata": {
        "colab": {
          "base_uri": "https://localhost:8080/"
        },
        "id": "-hAoG2rr7QSR",
        "outputId": "8cd1bd9a-b4b5-4240-88ba-27053c8a95c7"
      },
      "execution_count": null,
      "outputs": [
        {
          "output_type": "stream",
          "name": "stdout",
          "text": [
            "Не обнаружено связи между наличием/отсутствием дачи и наличием/отсутствием автомашины\n"
          ]
        }
      ]
    },
    {
      "cell_type": "code",
      "source": [],
      "metadata": {
        "id": "6QF8xugx8B9z"
      },
      "execution_count": null,
      "outputs": []
    }
  ]
}